{
 "cells": [
  {
   "cell_type": "code",
   "execution_count": 7,
   "id": "ee6c018d-3b83-43d0-a573-59d4cfebc830",
   "metadata": {},
   "outputs": [
    {
     "data": {
      "text/plain": [
       "'/root/kickboard_helmet_project/SERVER/pytorch_wavelets'"
      ]
     },
     "execution_count": 7,
     "metadata": {},
     "output_type": "execute_result"
    }
   ],
   "source": [
    "pwd"
   ]
  },
  {
   "cell_type": "code",
   "execution_count": 9,
   "id": "0977ec1d-3f00-41af-b378-e68d76fa983f",
   "metadata": {},
   "outputs": [
    {
     "name": "stdout",
     "output_type": "stream",
     "text": [
      "/root/kickboard_helmet_project/SERVER/pytorch_wavelets\n"
     ]
    }
   ],
   "source": [
    "%cd ./pytorch_wavelets/"
   ]
  },
  {
   "cell_type": "code",
   "execution_count": 10,
   "id": "f66080b0-e958-431a-bf20-5f189f532cd4",
   "metadata": {},
   "outputs": [
    {
     "name": "stdout",
     "output_type": "stream",
     "text": [
      "/root/anaconda3/envs/team_env/lib/python3.7/site-packages/pip/_internal/commands/install.py:229: UserWarning: Disabling all use of wheels due to the use of --build-option / --global-option / --install-option.\n",
      "  cmdoptions.check_install_build_global(options)\n",
      "Requirement already satisfied: Cython in /root/anaconda3/envs/team_env/lib/python3.7/site-packages (0.29.24)\n",
      "\u001b[33mWARNING: Running pip as the 'root' user can result in broken permissions and conflicting behaviour with the system package manager. It is recommended to use a virtual environment instead: https://pip.pypa.io/warnings/venv\u001b[0m\n"
     ]
    }
   ],
   "source": [
    "!pip install Cython --install-option=\"--no-cython-compile\""
   ]
  },
  {
   "cell_type": "code",
   "execution_count": 12,
   "id": "27ea7891-1906-44b0-b66f-b3d797bdf93c",
   "metadata": {},
   "outputs": [
    {
     "name": "stdout",
     "output_type": "stream",
     "text": [
      "/root/kickboard_helmet_project/SERVER/yolor\n"
     ]
    }
   ],
   "source": [
    "%cd /root/kickboard_helmet_project/SERVER/yolor/"
   ]
  },
  {
   "cell_type": "code",
   "execution_count": null,
   "id": "e23560a1-6160-408c-8d85-4608ef94b91a",
   "metadata": {},
   "outputs": [],
   "source": [
    "!python detect.py --weights best1119.pt --img-size 460 --conf 0.5 --source /content/images.jpg"
   ]
  }
 ],
 "metadata": {
  "kernelspec": {
   "display_name": "team_env",
   "language": "python",
   "name": "team_env"
  },
  "language_info": {
   "codemirror_mode": {
    "name": "ipython",
    "version": 3
   },
   "file_extension": ".py",
   "mimetype": "text/x-python",
   "name": "python",
   "nbconvert_exporter": "python",
   "pygments_lexer": "ipython3",
   "version": "3.7.11"
  }
 },
 "nbformat": 4,
 "nbformat_minor": 5
}
