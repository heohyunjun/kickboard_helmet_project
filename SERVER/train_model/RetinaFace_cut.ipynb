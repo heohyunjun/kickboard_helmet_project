{
 "cells": [
  {
   "cell_type": "code",
   "execution_count": 3,
   "id": "893bb89f-482c-43a6-b0ce-a0dfdd9f4ed5",
   "metadata": {},
   "outputs": [
    {
     "name": "stderr",
     "output_type": "stream",
     "text": [
      "Cloning into 'RetinaFace-tf2'...\n"
     ]
    }
   ],
   "source": [
    "!git clone https://github.com/StanislasBertrand/RetinaFace-tf2.git"
   ]
  },
  {
   "cell_type": "code",
   "execution_count": null,
   "id": "07ef3b4b-87dd-4966-96ad-cf56d4a98c04",
   "metadata": {},
   "outputs": [],
   "source": [
    "# %cd ./RetinaFace-tf2\n",
    "# !pip install -r requirements.txt\n",
    "# !pip3 install wget\n",
    "# !make"
   ]
  },
  {
   "cell_type": "code",
   "execution_count": 1,
   "id": "a4dda2e7-7465-40e7-b9a0-8b7eae892e54",
   "metadata": {},
   "outputs": [
    {
     "name": "stdout",
     "output_type": "stream",
     "text": [
      "/root/kickboard_helmet_project/SERVER/train_model/RetinaFace-tf2\n"
     ]
    }
   ],
   "source": [
    "%cd ./RetinaFace-tf2"
   ]
  },
  {
   "cell_type": "code",
   "execution_count": 14,
   "id": "12b71c45-fad9-4e93-93d2-c417a339ea1d",
   "metadata": {},
   "outputs": [
    {
     "ename": "ModuleNotFoundError",
     "evalue": "No module named 'tensorflow'",
     "output_type": "error",
     "traceback": [
      "\u001b[1;31m---------------------------------------------------------------------------\u001b[0m",
      "\u001b[1;31mModuleNotFoundError\u001b[0m                       Traceback (most recent call last)",
      "\u001b[1;32m~\\AppData\\Local\\Temp/ipykernel_10252/2222279439.py\u001b[0m in \u001b[0;36m<module>\u001b[1;34m\u001b[0m\n\u001b[1;32m----> 1\u001b[1;33m \u001b[1;32mimport\u001b[0m \u001b[0mtensorflow\u001b[0m \u001b[1;32mas\u001b[0m \u001b[0mtf\u001b[0m\u001b[1;33m\u001b[0m\u001b[1;33m\u001b[0m\u001b[0m\n\u001b[0m\u001b[0;32m      2\u001b[0m \u001b[0mstrategy\u001b[0m \u001b[1;33m=\u001b[0m \u001b[0mtf\u001b[0m\u001b[1;33m.\u001b[0m\u001b[0mdistribute\u001b[0m\u001b[1;33m.\u001b[0m\u001b[0mMirroredStrategy\u001b[0m\u001b[1;33m(\u001b[0m\u001b[1;33m)\u001b[0m\u001b[1;33m\u001b[0m\u001b[1;33m\u001b[0m\u001b[0m\n",
      "\u001b[1;31mModuleNotFoundError\u001b[0m: No module named 'tensorflow'"
     ]
    }
   ],
   "source": [
    "import tensorflow as tf\n",
    "strategy = tf.distribute.MirroredStrategy()"
   ]
  },
  {
   "cell_type": "code",
   "execution_count": 2,
   "id": "fc49ab4c-506e-4dd2-be76-c54e31d7772f",
   "metadata": {},
   "outputs": [],
   "source": [
    "from src.retinafacetf2.retinaface import RetinaFace"
   ]
  },
  {
   "cell_type": "code",
   "execution_count": 3,
   "id": "1e343e39-c68a-4709-b835-47a0a0a8aa0c",
   "metadata": {
    "collapsed": true,
    "jupyter": {
     "outputs_hidden": true
    },
    "tags": []
   },
   "outputs": [
    {
     "name": "stdout",
     "output_type": "stream",
     "text": [
      "found weights located at /root/.cache/retinaface/retinafaceweights.npy\n"
     ]
    },
    {
     "name": "stderr",
     "output_type": "stream",
     "text": [
      "2021-12-17 14:35:51.827843: I tensorflow/stream_executor/cuda/cuda_gpu_executor.cc:939] successful NUMA node read from SysFS had negative value (-1), but there must be at least one NUMA node, so returning NUMA node zero\n",
      "2021-12-17 14:35:51.834731: W tensorflow/stream_executor/platform/default/dso_loader.cc:64] Could not load dynamic library 'libcusolver.so.11'; dlerror: libcusolver.so.11: cannot open shared object file: No such file or directory; LD_LIBRARY_PATH: /root/anaconda3/envs/team_env/lib/python3.7/site-packages/cv2/../../lib64:\n",
      "2021-12-17 14:35:51.835645: W tensorflow/core/common_runtime/gpu/gpu_device.cc:1850] Cannot dlopen some GPU libraries. Please make sure the missing libraries mentioned above are installed properly if you would like to use GPU. Follow the guide at https://www.tensorflow.org/install/gpu for how to download and setup the required libraries for your platform.\n",
      "Skipping registering GPU devices...\n",
      "2021-12-17 14:35:51.836963: I tensorflow/core/platform/cpu_feature_guard.cc:151] This TensorFlow binary is optimized with oneAPI Deep Neural Network Library (oneDNN) to use the following CPU instructions in performance-critical operations:  AVX2 AVX512F FMA\n",
      "To enable them in other operations, rebuild TensorFlow with the appropriate compiler flags.\n"
     ]
    }
   ],
   "source": [
    "detector = RetinaFace(False, 0.4)"
   ]
  },
  {
   "cell_type": "code",
   "execution_count": 4,
   "id": "97e684ab-a2eb-420f-bd1a-19e747bcb460",
   "metadata": {},
   "outputs": [],
   "source": [
    "import cv2"
   ]
  },
  {
   "cell_type": "code",
   "execution_count": null,
   "id": "4cff1bfe-4b26-4660-b9aa-e5b5ec084507",
   "metadata": {},
   "outputs": [
    {
     "ename": "ModuleNotFoundError",
     "evalue": "No module named 'src'",
     "output_type": "error",
     "traceback": [
      "\u001b[0;31m---------------------------------------------------------------------------\u001b[0m",
      "\u001b[0;31mModuleNotFoundError\u001b[0m                       Traceback (most recent call last)",
      "\u001b[0;32m/tmp/ipykernel_10074/3969892043.py\u001b[0m in \u001b[0;36m<module>\u001b[0;34m\u001b[0m\n\u001b[0;32m----> 1\u001b[0;31m \u001b[0;32mfrom\u001b[0m \u001b[0msrc\u001b[0m\u001b[0;34m.\u001b[0m\u001b[0mretinafacetf2\u001b[0m\u001b[0;34m.\u001b[0m\u001b[0mretinaface\u001b[0m \u001b[0;32mimport\u001b[0m \u001b[0mRetinaFace\u001b[0m\u001b[0;34m\u001b[0m\u001b[0;34m\u001b[0m\u001b[0m\n\u001b[0m\u001b[1;32m      2\u001b[0m \u001b[0;31m# import cv2\u001b[0m\u001b[0;34m\u001b[0m\u001b[0;34m\u001b[0m\u001b[0;34m\u001b[0m\u001b[0m\n\u001b[1;32m      3\u001b[0m \u001b[0;31m# from tqdm import tqdm\u001b[0m\u001b[0;34m\u001b[0m\u001b[0;34m\u001b[0m\u001b[0;34m\u001b[0m\u001b[0m\n\u001b[1;32m      4\u001b[0m \u001b[0;31m# import os\u001b[0m\u001b[0;34m\u001b[0m\u001b[0;34m\u001b[0m\u001b[0;34m\u001b[0m\u001b[0m\n\u001b[1;32m      5\u001b[0m \u001b[0;34m\u001b[0m\u001b[0m\n",
      "\u001b[0;31mModuleNotFoundError\u001b[0m: No module named 'src'"
     ]
    }
   ],
   "source": [
    "from src.retinafacetf2.retinaface import RetinaFace\n",
    "import cv2\n",
    "from tqdm import tqdm\n",
    "import os\n",
    "\n",
    "detector = RetinaFace(False, 0.4)\n",
    "\n",
    "base_path = '/root/data/OIDv4_ToolKit/OID/Dataset/'\n",
    "\n",
    "for tvt in ['train', 'validation', 'test']:\n",
    "    i = 0\n",
    "    j = 0\n",
    "    for label in ['Bicycle helmet', 'Helmet', 'Human head', 'Hat']:\n",
    "\n",
    "        for txt_path in tqdm(os.listdir(base_path + tvt + '/' + label + '/' + 'Label/')):\n",
    "            try:\n",
    "                img_path = base_path + tvt + '/' + label + '/' + txt_path[:-4] + '.jpg'\n",
    "                img = cv2.imread(img_path, cv2.IMREAD_COLOR)\n",
    "                faces, landmarks = detector.detect(img, 0.8)\n",
    "\n",
    "                if (label == 'Bicycle helmet' ) or (label == 'Helmet'):\n",
    "                    for idx in range(faces.shape[0]):\n",
    "                        x ,y , xw, yh = faces[idx][:4]\n",
    "                        x ,y , xw, yh = faces[idx][:4]\n",
    "                        w = xw - x\n",
    "                        h = yh - y\n",
    "                        x_min = max(0, int(x - 0.5 * w))\n",
    "                        y_min = max(0, int(y - 0.6 * h))\n",
    "                        x_max = min(img.shape[1], int(x + 1.5 * w))\n",
    "                        y_max = min(img.shape[0], int(y + 1.3 * h))\n",
    "\n",
    "                        face_img = img[y_min:y_max, x_min:x_max]\n",
    "\n",
    "                        cv2.imwrite(f'/root/data/cut_data/{tvt}/yes/{i}.jpg', face_img)\n",
    "                        i += 1\n",
    "                else:\n",
    "                    for idx in range(faces.shape[0]):\n",
    "                        x ,y , xw, yh = faces[idx][:4]\n",
    "                        x ,y , xw, yh = faces[idx][:4]\n",
    "                        w = xw - x\n",
    "                        h = yh - y\n",
    "                        x_min = max(0, int(x - 0.5 * w))\n",
    "                        y_min = max(0, int(y - 0.6 * h))\n",
    "                        x_max = min(img.shape[1], int(x + 1.5 * w))\n",
    "                        y_max = min(img.shape[0], int(y + 1.3 * h))\n",
    "\n",
    "                        face_img = img[y_min:y_max, x_min:x_max]\n",
    "\n",
    "                        cv2.imwrite(f'/root/data/cut_data/{tvt}/no/{j}.jpg', face_img)\n",
    "                        j += 1\n",
    "            except:\n",
    "                print(img_path)"
   ]
  },
  {
   "cell_type": "code",
   "execution_count": 19,
   "id": "6975c547-24b4-4578-8390-26cb5076685c",
   "metadata": {},
   "outputs": [
    {
     "data": {
      "text/plain": [
       "<matplotlib.image.AxesImage at 0x7f3951904c40>"
      ]
     },
     "execution_count": 19,
     "metadata": {},
     "output_type": "execute_result"
    },
    {
     "data": {
      "image/png": "[encoded data removed]",
      "text/plain": [
       "<Figure size 432x288 with 1 Axes>"
      ]
     },
     "metadata": {
      "needs_background": "light"
     },
     "output_type": "display_data"
    }
   ],
   "source": [
    "import cv2\n",
    "import matplotlib.pyplot as plt\n",
    "\n",
    "img = cv2.imread('/root/data/cut_data/train/yes/1232.jpg', cv2.IMREAD_COLOR)\n",
    "plt.imshow(img)"
   ]
  },
  {
   "cell_type": "code",
   "execution_count": null,
   "id": "c02559d0-627a-409a-b39b-2074d5a3188e",
   "metadata": {},
   "outputs": [],
   "source": []
  }
 ],
 "metadata": {
  "kernelspec": {
   "display_name": "Python 3 (ipykernel)",
   "language": "python",
   "name": "python3"
  },
  "language_info": {
   "codemirror_mode": {
    "name": "ipython",
    "version": 3
   },
   "file_extension": ".py",
   "mimetype": "text/x-python",
   "name": "python",
   "nbconvert_exporter": "python",
   "pygments_lexer": "ipython3",
   "version": "3.7.11"
  }
 },
 "nbformat": 4,
 "nbformat_minor": 5
}
