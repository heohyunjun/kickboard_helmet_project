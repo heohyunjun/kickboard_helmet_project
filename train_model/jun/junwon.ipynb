{
 "cells": [
  {
   "cell_type": "code",
   "execution_count": 1,
   "id": "ac087353-1fa0-4f2b-9fa2-427906062475",
   "metadata": {},
   "outputs": [
    {
     "name": "stderr",
     "output_type": "stream",
     "text": [
      "2021-11-12 01:57:37.915852: I tensorflow/stream_executor/platform/default/dso_loader.cc:48] Successfully opened dynamic library libcudart.so.10.1\n"
     ]
    }
   ],
   "source": [
    "import os\n",
    "import pandas as pd\n",
    "import numpy as np\n",
    "import sklearn\n",
    "import cv2\n",
    "import tensorflow as tf\n",
    "from tensorflow.keras.utils import to_categorical\n",
    "from tqdm import tqdm"
   ]
  },
  {
   "cell_type": "code",
   "execution_count": 2,
   "id": "b3ae21e8-efd1-485f-8aee-073774df6a1a",
   "metadata": {},
   "outputs": [
    {
     "name": "stdout",
     "output_type": "stream",
     "text": [
      "INFO:tensorflow:Using MirroredStrategy with devices ('/job:localhost/replica:0/task:0/device:GPU:0', '/job:localhost/replica:0/task:0/device:GPU:1')\n"
     ]
    },
    {
     "name": "stderr",
     "output_type": "stream",
     "text": [
      "2021-11-12 01:57:46.754127: I tensorflow/stream_executor/platform/default/dso_loader.cc:48] Successfully opened dynamic library libcuda.so.1\n",
      "2021-11-12 01:57:47.118089: I tensorflow/core/common_runtime/gpu/gpu_device.cc:1716] Found device 0 with properties: \n",
      "pciBusID: 0000:0a:00.0 name: NVIDIA GeForce GTX 1080 computeCapability: 6.1\n",
      "coreClock: 1.759GHz coreCount: 20 deviceMemorySize: 7.93GiB deviceMemoryBandwidth: 298.32GiB/s\n",
      "2021-11-12 01:57:47.119480: I tensorflow/core/common_runtime/gpu/gpu_device.cc:1716] Found device 1 with properties: \n",
      "pciBusID: 0000:0b:00.0 name: NVIDIA GeForce GTX 1080 computeCapability: 6.1\n",
      "coreClock: 1.759GHz coreCount: 20 deviceMemorySize: 7.93GiB deviceMemoryBandwidth: 298.32GiB/s\n",
      "2021-11-12 01:57:47.119537: I tensorflow/stream_executor/platform/default/dso_loader.cc:48] Successfully opened dynamic library libcudart.so.10.1\n",
      "2021-11-12 01:57:47.175465: I tensorflow/stream_executor/platform/default/dso_loader.cc:48] Successfully opened dynamic library libcublas.so.10\n",
      "2021-11-12 01:57:47.437040: I tensorflow/stream_executor/platform/default/dso_loader.cc:48] Successfully opened dynamic library libcufft.so.10\n",
      "2021-11-12 01:57:47.598451: I tensorflow/stream_executor/platform/default/dso_loader.cc:48] Successfully opened dynamic library libcurand.so.10\n",
      "2021-11-12 01:57:47.664070: I tensorflow/stream_executor/platform/default/dso_loader.cc:48] Successfully opened dynamic library libcusolver.so.10\n",
      "2021-11-12 01:57:47.691166: I tensorflow/stream_executor/platform/default/dso_loader.cc:48] Successfully opened dynamic library libcusparse.so.10\n",
      "2021-11-12 01:57:51.395117: I tensorflow/stream_executor/platform/default/dso_loader.cc:48] Successfully opened dynamic library libcudnn.so.7\n",
      "2021-11-12 01:57:51.400710: I tensorflow/core/common_runtime/gpu/gpu_device.cc:1858] Adding visible gpu devices: 0, 1\n",
      "2021-11-12 01:57:51.401630: I tensorflow/core/platform/cpu_feature_guard.cc:142] This TensorFlow binary is optimized with oneAPI Deep Neural Network Library (oneDNN)to use the following CPU instructions in performance-critical operations:  AVX2 FMA\n",
      "To enable them in other operations, rebuild TensorFlow with the appropriate compiler flags.\n",
      "2021-11-12 01:57:51.428461: I tensorflow/core/platform/profile_utils/cpu_utils.cc:104] CPU Frequency: 3199610000 Hz\n",
      "2021-11-12 01:57:51.429635: I tensorflow/compiler/xla/service/service.cc:168] XLA service 0x5590f93d8e10 initialized for platform Host (this does not guarantee that XLA will be used). Devices:\n",
      "2021-11-12 01:57:51.429679: I tensorflow/compiler/xla/service/service.cc:176]   StreamExecutor device (0): Host, Default Version\n",
      "2021-11-12 01:57:51.933843: I tensorflow/compiler/xla/service/service.cc:168] XLA service 0x5590f6d18d20 initialized for platform CUDA (this does not guarantee that XLA will be used). Devices:\n",
      "2021-11-12 01:57:51.933885: I tensorflow/compiler/xla/service/service.cc:176]   StreamExecutor device (0): NVIDIA GeForce GTX 1080, Compute Capability 6.1\n",
      "2021-11-12 01:57:51.933896: I tensorflow/compiler/xla/service/service.cc:176]   StreamExecutor device (1): NVIDIA GeForce GTX 1080, Compute Capability 6.1\n",
      "2021-11-12 01:57:52.040869: I tensorflow/core/common_runtime/gpu/gpu_device.cc:1716] Found device 0 with properties: \n",
      "pciBusID: 0000:0a:00.0 name: NVIDIA GeForce GTX 1080 computeCapability: 6.1\n",
      "coreClock: 1.759GHz coreCount: 20 deviceMemorySize: 7.93GiB deviceMemoryBandwidth: 298.32GiB/s\n",
      "2021-11-12 01:57:52.042237: I tensorflow/core/common_runtime/gpu/gpu_device.cc:1716] Found device 1 with properties: \n",
      "pciBusID: 0000:0b:00.0 name: NVIDIA GeForce GTX 1080 computeCapability: 6.1\n",
      "coreClock: 1.759GHz coreCount: 20 deviceMemorySize: 7.93GiB deviceMemoryBandwidth: 298.32GiB/s\n",
      "2021-11-12 01:57:52.042318: I tensorflow/stream_executor/platform/default/dso_loader.cc:48] Successfully opened dynamic library libcudart.so.10.1\n",
      "2021-11-12 01:57:52.042356: I tensorflow/stream_executor/platform/default/dso_loader.cc:48] Successfully opened dynamic library libcublas.so.10\n",
      "2021-11-12 01:57:52.042387: I tensorflow/stream_executor/platform/default/dso_loader.cc:48] Successfully opened dynamic library libcufft.so.10\n",
      "2021-11-12 01:57:52.042417: I tensorflow/stream_executor/platform/default/dso_loader.cc:48] Successfully opened dynamic library libcurand.so.10\n",
      "2021-11-12 01:57:52.042451: I tensorflow/stream_executor/platform/default/dso_loader.cc:48] Successfully opened dynamic library libcusolver.so.10\n",
      "2021-11-12 01:57:52.042481: I tensorflow/stream_executor/platform/default/dso_loader.cc:48] Successfully opened dynamic library libcusparse.so.10\n",
      "2021-11-12 01:57:52.042511: I tensorflow/stream_executor/platform/default/dso_loader.cc:48] Successfully opened dynamic library libcudnn.so.7\n",
      "2021-11-12 01:57:52.046728: I tensorflow/core/common_runtime/gpu/gpu_device.cc:1858] Adding visible gpu devices: 0, 1\n",
      "2021-11-12 01:57:52.046787: I tensorflow/stream_executor/platform/default/dso_loader.cc:48] Successfully opened dynamic library libcudart.so.10.1\n",
      "2021-11-12 01:57:52.810386: I tensorflow/core/common_runtime/gpu/gpu_device.cc:1257] Device interconnect StreamExecutor with strength 1 edge matrix:\n",
      "2021-11-12 01:57:52.810425: I tensorflow/core/common_runtime/gpu/gpu_device.cc:1263]      0 1 \n",
      "2021-11-12 01:57:52.810432: I tensorflow/core/common_runtime/gpu/gpu_device.cc:1276] 0:   N Y \n",
      "2021-11-12 01:57:52.810436: I tensorflow/core/common_runtime/gpu/gpu_device.cc:1276] 1:   Y N \n",
      "2021-11-12 01:57:52.812189: I tensorflow/core/common_runtime/gpu/gpu_device.cc:1402] Created TensorFlow device (/job:localhost/replica:0/task:0/device:GPU:0 with 7208 MB memory) -> physical GPU (device: 0, name: NVIDIA GeForce GTX 1080, pci bus id: 0000:0a:00.0, compute capability: 6.1)\n",
      "2021-11-12 01:57:52.813144: I tensorflow/core/common_runtime/gpu/gpu_device.cc:1402] Created TensorFlow device (/job:localhost/replica:0/task:0/device:GPU:1 with 7218 MB memory) -> physical GPU (device: 1, name: NVIDIA GeForce GTX 1080, pci bus id: 0000:0b:00.0, compute capability: 6.1)\n"
     ]
    }
   ],
   "source": [
    "strategy = tf.distribute.MirroredStrategy()"
   ]
  },
  {
   "cell_type": "code",
   "execution_count": 3,
   "id": "2bae478b-7eff-4b7d-9e10-9f7657f7087e",
   "metadata": {},
   "outputs": [],
   "source": [
    "os.chdir('/root/data/')"
   ]
  },
  {
   "cell_type": "code",
   "execution_count": 4,
   "id": "85250dc6-4d28-4d6e-834a-4f47778b6b5a",
   "metadata": {},
   "outputs": [],
   "source": [
    "path = './OIDv4_ToolKit/OID/Dataset/train/'"
   ]
  },
  {
   "cell_type": "code",
   "execution_count": 5,
   "id": "4d7e468e-baa8-413c-a351-eb61dac8f9a5",
   "metadata": {},
   "outputs": [
    {
     "name": "stdout",
     "output_type": "stream",
     "text": [
      "rm: cannot remove './OIDv4_ToolKit/OID/Dataset/train/Helmet/.ipynb_checkpoints': No such file or directory\n"
     ]
    }
   ],
   "source": [
    "rm -r ./OIDv4_ToolKit/OID/Dataset/train/Helmet/.ipynb_checkpoints"
   ]
  },
  {
   "cell_type": "code",
   "execution_count": 6,
   "id": "96028216-29f2-44fb-8eca-940856825c4b",
   "metadata": {},
   "outputs": [],
   "source": [
    "img_np = np.array([])\n",
    "label_np = np.array([])\n",
    "for label in ['Bicycle helmet', 'Helmet', 'Human face']:\n",
    "    for txt in os.listdir(f'{path}{label}/Label/'):\n",
    "        img_np = np.append(img_np, np.array(f'{path}{label}/{txt[:-4]}.jpg'))\n",
    "        label_np = np.append(label_np, np.array(label))"
   ]
  },
  {
   "cell_type": "code",
   "execution_count": null,
   "id": "d67a4ada-0fcd-4fe0-8a1c-8e3b0661d251",
   "metadata": {},
   "outputs": [],
   "source": []
  },
  {
   "cell_type": "code",
   "execution_count": 7,
   "id": "797faff8-b993-4c93-80e8-7c9f6dc508cd",
   "metadata": {},
   "outputs": [
    {
     "name": "stdout",
     "output_type": "stream",
     "text": [
      "22614\n"
     ]
    }
   ],
   "source": [
    "print(len(img_np))"
   ]
  },
  {
   "cell_type": "code",
   "execution_count": 8,
   "id": "81385bdc-1efe-4b24-9237-a8b120c3ce3e",
   "metadata": {},
   "outputs": [],
   "source": [
    "train_df = pd.DataFrame()\n",
    "train_df['img_name'] = img_np\n",
    "train_df['tag'] = label_np\n",
    "train_df['label'] = label_np\n",
    "train_df['label'] = train_df['label'].map({'Bicycle helmet' : 0, 'Helmet' : 0, 'Human face' : 1})"
   ]
  },
  {
   "cell_type": "code",
   "execution_count": 9,
   "id": "11847492-7f71-4ac2-aaba-13bed8f5a7e0",
   "metadata": {},
   "outputs": [
    {
     "data": {
      "text/html": [
       "<div>\n",
       "<style scoped>\n",
       "    .dataframe tbody tr th:only-of-type {\n",
       "        vertical-align: middle;\n",
       "    }\n",
       "\n",
       "    .dataframe tbody tr th {\n",
       "        vertical-align: top;\n",
       "    }\n",
       "\n",
       "    .dataframe thead th {\n",
       "        text-align: right;\n",
       "    }\n",
       "</style>\n",
       "<table border=\"1\" class=\"dataframe\">\n",
       "  <thead>\n",
       "    <tr style=\"text-align: right;\">\n",
       "      <th></th>\n",
       "      <th>img_name</th>\n",
       "      <th>tag</th>\n",
       "      <th>label</th>\n",
       "    </tr>\n",
       "  </thead>\n",
       "  <tbody>\n",
       "    <tr>\n",
       "      <th>0</th>\n",
       "      <td>./OIDv4_ToolKit/OID/Dataset/train/Bicycle helm...</td>\n",
       "      <td>Bicycle helmet</td>\n",
       "      <td>0</td>\n",
       "    </tr>\n",
       "    <tr>\n",
       "      <th>1</th>\n",
       "      <td>./OIDv4_ToolKit/OID/Dataset/train/Bicycle helm...</td>\n",
       "      <td>Bicycle helmet</td>\n",
       "      <td>0</td>\n",
       "    </tr>\n",
       "    <tr>\n",
       "      <th>2</th>\n",
       "      <td>./OIDv4_ToolKit/OID/Dataset/train/Bicycle helm...</td>\n",
       "      <td>Bicycle helmet</td>\n",
       "      <td>0</td>\n",
       "    </tr>\n",
       "    <tr>\n",
       "      <th>3</th>\n",
       "      <td>./OIDv4_ToolKit/OID/Dataset/train/Bicycle helm...</td>\n",
       "      <td>Bicycle helmet</td>\n",
       "      <td>0</td>\n",
       "    </tr>\n",
       "    <tr>\n",
       "      <th>4</th>\n",
       "      <td>./OIDv4_ToolKit/OID/Dataset/train/Bicycle helm...</td>\n",
       "      <td>Bicycle helmet</td>\n",
       "      <td>0</td>\n",
       "    </tr>\n",
       "  </tbody>\n",
       "</table>\n",
       "</div>"
      ],
      "text/plain": [
       "                                            img_name             tag  label\n",
       "0  ./OIDv4_ToolKit/OID/Dataset/train/Bicycle helm...  Bicycle helmet      0\n",
       "1  ./OIDv4_ToolKit/OID/Dataset/train/Bicycle helm...  Bicycle helmet      0\n",
       "2  ./OIDv4_ToolKit/OID/Dataset/train/Bicycle helm...  Bicycle helmet      0\n",
       "3  ./OIDv4_ToolKit/OID/Dataset/train/Bicycle helm...  Bicycle helmet      0\n",
       "4  ./OIDv4_ToolKit/OID/Dataset/train/Bicycle helm...  Bicycle helmet      0"
      ]
     },
     "execution_count": 9,
     "metadata": {},
     "output_type": "execute_result"
    }
   ],
   "source": [
    "train_df.head()"
   ]
  },
  {
   "cell_type": "code",
   "execution_count": 10,
   "id": "93335d0b-447f-4ca7-91c1-b9b87880facd",
   "metadata": {},
   "outputs": [],
   "source": [
    "IMG_SIZE = 224\n",
    "num_samples = train_df.shape[0]"
   ]
  },
  {
   "cell_type": "code",
   "execution_count": 11,
   "id": "8722deb8-e0dc-40ef-b823-385e1b628d58",
   "metadata": {},
   "outputs": [],
   "source": [
    "train_df = sklearn.utils.shuffle(train_df)"
   ]
  },
  {
   "cell_type": "code",
   "execution_count": 12,
   "id": "84b499bd-a6b3-4e0f-ac47-1a5225a7d281",
   "metadata": {},
   "outputs": [],
   "source": [
    "label = train_df['label'].values.reshape(-1,1)"
   ]
  },
  {
   "cell_type": "code",
   "execution_count": 13,
   "id": "9f5c36fc-d63b-4e38-bd07-7c7a49bf6436",
   "metadata": {},
   "outputs": [],
   "source": [
    "x = np.zeros(shape=(num_samples, IMG_SIZE, IMG_SIZE, 3 ), dtype=\"float32\" )"
   ]
  },
  {
   "cell_type": "code",
   "execution_count": null,
   "id": "c807cbbc-d406-4020-958c-bf3693597eda",
   "metadata": {},
   "outputs": [],
   "source": []
  },
  {
   "cell_type": "code",
   "execution_count": 14,
   "id": "cf4dcbc5-98fb-4435-8c9a-cf862d0882d7",
   "metadata": {
    "tags": []
   },
   "outputs": [
    {
     "name": "stderr",
     "output_type": "stream",
     "text": [
      "100%|████████████████████████████████████████████████████████████| 22614/22614 [16:11<00:00, 23.27it/s]\n"
     ]
    }
   ],
   "source": [
    "index = 0\n",
    "for img_path in tqdm(train_df['img_name']):\n",
    "    try:\n",
    "        img = cv2.imread(img_path).astype(np.float32)\n",
    "        img = cv2.resize(img, (224,224))\n",
    "        x[index] = img\n",
    "        index += 1\n",
    "    except:\n",
    "        print(img_path)"
   ]
  },
  {
   "cell_type": "code",
   "execution_count": 15,
   "id": "d52e3d25-d67c-4d9c-95fb-28838ec3e003",
   "metadata": {},
   "outputs": [
    {
     "data": {
      "text/plain": [
       "(22614, 224, 224, 3)"
      ]
     },
     "execution_count": 15,
     "metadata": {},
     "output_type": "execute_result"
    }
   ],
   "source": [
    "x.shape"
   ]
  },
  {
   "cell_type": "code",
   "execution_count": 16,
   "id": "846112fe-9557-4218-8169-9a00c44e02e6",
   "metadata": {},
   "outputs": [],
   "source": [
    "y = np.zeros(shape=(num_samples), dtype=\"float32\" )"
   ]
  },
  {
   "cell_type": "code",
   "execution_count": 17,
   "id": "043c4f16-5d44-4667-97f9-7389058d0185",
   "metadata": {},
   "outputs": [],
   "source": [
    "y = to_categorical(label)"
   ]
  },
  {
   "cell_type": "code",
   "execution_count": 18,
   "id": "6aa89096-3be7-4019-9059-3b56235e0523",
   "metadata": {},
   "outputs": [
    {
     "data": {
      "text/plain": [
       "(22614, 2)"
      ]
     },
     "execution_count": 18,
     "metadata": {},
     "output_type": "execute_result"
    }
   ],
   "source": [
    "y.shape"
   ]
  },
  {
   "cell_type": "code",
   "execution_count": 19,
   "id": "a0df6f27-c2b9-436a-8d14-127d876f97e9",
   "metadata": {},
   "outputs": [],
   "source": [
    "path = './OIDv4_ToolKit/OID/Dataset/validation/'"
   ]
  },
  {
   "cell_type": "code",
   "execution_count": 20,
   "id": "58e93d8a-959d-4d52-ac32-6bf845182290",
   "metadata": {},
   "outputs": [],
   "source": [
    "img_np = np.array([])\n",
    "label_np = np.array([])\n",
    "for label in ['Bicycle helmet', 'Helmet', 'Human face']:\n",
    "    for txt in os.listdir(f'{path}{label}/Label/'):\n",
    "        img_np = np.append(img_np, np.array(f'{path}{label}/{txt[:-4]}.jpg'))\n",
    "        label_np = np.append(label_np, np.array(label))"
   ]
  },
  {
   "cell_type": "code",
   "execution_count": 21,
   "id": "6e74386d-4ee5-40ba-9284-93bb6d3cb816",
   "metadata": {},
   "outputs": [],
   "source": [
    "validation_df = pd.DataFrame()\n",
    "validation_df['img_name'] = img_np\n",
    "validation_df['tag'] = label_np\n",
    "validation_df['label'] = label_np\n",
    "validation_df['label'] = validation_df['label'].map({'Bicycle helmet' : 0, 'Helmet' : 0, 'Human face' : 1})"
   ]
  },
  {
   "cell_type": "code",
   "execution_count": 22,
   "id": "08d9dc3f-6c26-4e2e-aaa7-eb7d296bdc92",
   "metadata": {},
   "outputs": [],
   "source": [
    "IMG_SIZE = 224\n",
    "num_samples = validation_df.shape[0]"
   ]
  },
  {
   "cell_type": "code",
   "execution_count": 23,
   "id": "748916b6-966a-4e28-933c-df21d44a3ccd",
   "metadata": {},
   "outputs": [],
   "source": [
    "validation_df = sklearn.utils.shuffle(validation_df)"
   ]
  },
  {
   "cell_type": "code",
   "execution_count": 24,
   "id": "e52d8eb9-3c35-4b16-8dcc-568e1cd6b98b",
   "metadata": {},
   "outputs": [],
   "source": [
    "val_label = validation_df['label'].values.reshape(-1,1)"
   ]
  },
  {
   "cell_type": "code",
   "execution_count": 25,
   "id": "6772df8a-8abf-4706-86ee-b24ef4dbcb2d",
   "metadata": {},
   "outputs": [],
   "source": [
    "val_y = to_categorical(val_label)"
   ]
  },
  {
   "cell_type": "code",
   "execution_count": 26,
   "id": "0f347704-fa07-425e-98e4-ab1929011fb5",
   "metadata": {},
   "outputs": [],
   "source": [
    "val_x = np.zeros(shape=(num_samples, IMG_SIZE, IMG_SIZE, 3 ), dtype=\"float32\" )"
   ]
  },
  {
   "cell_type": "code",
   "execution_count": 27,
   "id": "91e0b64d-b393-4d08-87a1-e2a810c53389",
   "metadata": {},
   "outputs": [
    {
     "name": "stderr",
     "output_type": "stream",
     "text": [
      "100%|██████████████████████████████████████████████████████████████| 3227/3227 [01:49<00:00, 29.38it/s]\n"
     ]
    }
   ],
   "source": [
    "index = 0\n",
    "for img_path in tqdm(validation_df['img_name']):\n",
    "    try:\n",
    "        img = cv2.imread(img_path).astype(np.float32)\n",
    "        img = cv2.resize(img, (224,224))\n",
    "        val_x[index] = img\n",
    "        index += 1\n",
    "    except:\n",
    "        print(img_path)"
   ]
  },
  {
   "cell_type": "code",
   "execution_count": 28,
   "id": "81802158-fde2-4761-ba39-6aa137debcb4",
   "metadata": {},
   "outputs": [],
   "source": [
    "from tensorflow.keras.models import Sequential\n",
    "from tensorflow.keras.layers import Conv2D, MaxPooling2D, Flatten, Dropout, Dense\n",
    "from tensorflow.keras.optimizers import Adam\n",
    "from tensorflow.keras.callbacks import ModelCheckpoint"
   ]
  },
  {
   "cell_type": "code",
   "execution_count": 29,
   "id": "ccf5d6e0-0b43-43ba-879f-a9aae6b04131",
   "metadata": {},
   "outputs": [
    {
     "name": "stderr",
     "output_type": "stream",
     "text": [
      "2021-11-12 02:16:26.576444: I tensorflow/stream_executor/cuda/cuda_driver.cc:775] failed to allocate 7.04G (7558914304 bytes) from device: CUDA_ERROR_OUT_OF_MEMORY: out of memory\n",
      "2021-11-12 02:16:26.576991: I tensorflow/stream_executor/cuda/cuda_driver.cc:775] failed to allocate 6.33G (6803022336 bytes) from device: CUDA_ERROR_OUT_OF_MEMORY: out of memory\n",
      "2021-11-12 02:16:26.577782: I tensorflow/stream_executor/cuda/cuda_driver.cc:775] failed to allocate 5.70G (6122719744 bytes) from device: CUDA_ERROR_OUT_OF_MEMORY: out of memory\n",
      "2021-11-12 02:16:26.578666: I tensorflow/stream_executor/cuda/cuda_driver.cc:775] failed to allocate 5.13G (5510447616 bytes) from device: CUDA_ERROR_OUT_OF_MEMORY: out of memory\n",
      "2021-11-12 02:16:26.579535: I tensorflow/stream_executor/cuda/cuda_driver.cc:775] failed to allocate 4.62G (4959402496 bytes) from device: CUDA_ERROR_OUT_OF_MEMORY: out of memory\n",
      "2021-11-12 02:16:26.580440: I tensorflow/stream_executor/cuda/cuda_driver.cc:775] failed to allocate 4.16G (4463461888 bytes) from device: CUDA_ERROR_OUT_OF_MEMORY: out of memory\n",
      "2021-11-12 02:16:26.581374: I tensorflow/stream_executor/cuda/cuda_driver.cc:775] failed to allocate 3.74G (4017115648 bytes) from device: CUDA_ERROR_OUT_OF_MEMORY: out of memory\n",
      "2021-11-12 02:16:26.582399: I tensorflow/stream_executor/cuda/cuda_driver.cc:775] failed to allocate 3.37G (3615404032 bytes) from device: CUDA_ERROR_OUT_OF_MEMORY: out of memory\n",
      "2021-11-12 02:16:26.583419: I tensorflow/stream_executor/cuda/cuda_driver.cc:775] failed to allocate 3.03G (3253863424 bytes) from device: CUDA_ERROR_OUT_OF_MEMORY: out of memory\n",
      "2021-11-12 02:16:26.584494: I tensorflow/stream_executor/cuda/cuda_driver.cc:775] failed to allocate 2.73G (2928476928 bytes) from device: CUDA_ERROR_OUT_OF_MEMORY: out of memory\n",
      "2021-11-12 02:16:26.585257: I tensorflow/stream_executor/cuda/cuda_driver.cc:775] failed to allocate 2.45G (2635629056 bytes) from device: CUDA_ERROR_OUT_OF_MEMORY: out of memory\n",
      "2021-11-12 02:16:26.585593: I tensorflow/stream_executor/cuda/cuda_driver.cc:775] failed to allocate 2.21G (2372066048 bytes) from device: CUDA_ERROR_OUT_OF_MEMORY: out of memory\n",
      "2021-11-12 02:16:26.585927: I tensorflow/stream_executor/cuda/cuda_driver.cc:775] failed to allocate 1.99G (2134859520 bytes) from device: CUDA_ERROR_OUT_OF_MEMORY: out of memory\n",
      "2021-11-12 02:16:26.586259: I tensorflow/stream_executor/cuda/cuda_driver.cc:775] failed to allocate 1.79G (1921373696 bytes) from device: CUDA_ERROR_OUT_OF_MEMORY: out of memory\n",
      "2021-11-12 02:16:26.586592: I tensorflow/stream_executor/cuda/cuda_driver.cc:775] failed to allocate 1.61G (1729236224 bytes) from device: CUDA_ERROR_OUT_OF_MEMORY: out of memory\n",
      "2021-11-12 02:16:26.586924: I tensorflow/stream_executor/cuda/cuda_driver.cc:775] failed to allocate 1.45G (1556312576 bytes) from device: CUDA_ERROR_OUT_OF_MEMORY: out of memory\n",
      "2021-11-12 02:16:26.587260: I tensorflow/stream_executor/cuda/cuda_driver.cc:775] failed to allocate 1.30G (1400681472 bytes) from device: CUDA_ERROR_OUT_OF_MEMORY: out of memory\n",
      "2021-11-12 02:16:26.587593: I tensorflow/stream_executor/cuda/cuda_driver.cc:775] failed to allocate 1.17G (1260613376 bytes) from device: CUDA_ERROR_OUT_OF_MEMORY: out of memory\n",
      "2021-11-12 02:16:26.587926: I tensorflow/stream_executor/cuda/cuda_driver.cc:775] failed to allocate 1.06G (1134552064 bytes) from device: CUDA_ERROR_OUT_OF_MEMORY: out of memory\n",
      "2021-11-12 02:16:26.588279: I tensorflow/stream_executor/cuda/cuda_driver.cc:775] failed to allocate 973.79M (1021096960 bytes) from device: CUDA_ERROR_OUT_OF_MEMORY: out of memory\n",
      "2021-11-12 02:16:26.588630: I tensorflow/stream_executor/cuda/cuda_driver.cc:775] failed to allocate 876.41M (918987264 bytes) from device: CUDA_ERROR_OUT_OF_MEMORY: out of memory\n",
      "2021-11-12 02:16:26.588970: I tensorflow/stream_executor/cuda/cuda_driver.cc:775] failed to allocate 788.77M (827088640 bytes) from device: CUDA_ERROR_OUT_OF_MEMORY: out of memory\n",
      "2021-11-12 02:16:26.589313: I tensorflow/stream_executor/cuda/cuda_driver.cc:775] failed to allocate 709.90M (744379904 bytes) from device: CUDA_ERROR_OUT_OF_MEMORY: out of memory\n",
      "2021-11-12 02:16:26.589659: I tensorflow/stream_executor/cuda/cuda_driver.cc:775] failed to allocate 638.91M (669942016 bytes) from device: CUDA_ERROR_OUT_OF_MEMORY: out of memory\n",
      "2021-11-12 02:16:26.589993: I tensorflow/stream_executor/cuda/cuda_driver.cc:775] failed to allocate 575.02M (602947840 bytes) from device: CUDA_ERROR_OUT_OF_MEMORY: out of memory\n",
      "2021-11-12 02:16:26.590337: I tensorflow/stream_executor/cuda/cuda_driver.cc:775] failed to allocate 517.51M (542653184 bytes) from device: CUDA_ERROR_OUT_OF_MEMORY: out of memory\n",
      "2021-11-12 02:16:26.590676: I tensorflow/stream_executor/cuda/cuda_driver.cc:775] failed to allocate 465.76M (488387840 bytes) from device: CUDA_ERROR_OUT_OF_MEMORY: out of memory\n"
     ]
    }
   ],
   "source": [
    "model = Sequential([\n",
    "    Conv2D(32, kernel_size=(3,3), input_shape=(224, 224, 3), activation=\"relu\", padding=\"SAME\"),\n",
    "    MaxPooling2D(pool_size=2, padding=\"SAME\", strides=2),\n",
    "    Conv2D(64, kernel_size=(3,3), activation=\"relu\", padding=\"SAME\"),\n",
    "    MaxPooling2D(pool_size=2, padding=\"SAME\", strides=2),\n",
    "    Conv2D(128, kernel_size=(3,3), padding=\"SAME\", activation=\"relu\"),\n",
    "    MaxPooling2D(pool_size=2, padding=\"SAME\", strides=2),\n",
    "    Flatten(),\n",
    "    Dropout(0.5),\n",
    "    Dense(128, activation=\"relu\"),\n",
    "    Dense(2, activation='softmax'),\n",
    "])"
   ]
  },
  {
   "cell_type": "code",
   "execution_count": 30,
   "id": "7bb5963b-aefe-458f-b371-45789b23900b",
   "metadata": {},
   "outputs": [
    {
     "name": "stdout",
     "output_type": "stream",
     "text": [
      "Model: \"sequential\"\n",
      "_________________________________________________________________\n",
      "Layer (type)                 Output Shape              Param #   \n",
      "=================================================================\n",
      "conv2d (Conv2D)              (None, 224, 224, 32)      896       \n",
      "_________________________________________________________________\n",
      "max_pooling2d (MaxPooling2D) (None, 112, 112, 32)      0         \n",
      "_________________________________________________________________\n",
      "conv2d_1 (Conv2D)            (None, 112, 112, 64)      18496     \n",
      "_________________________________________________________________\n",
      "max_pooling2d_1 (MaxPooling2 (None, 56, 56, 64)        0         \n",
      "_________________________________________________________________\n",
      "conv2d_2 (Conv2D)            (None, 56, 56, 128)       73856     \n",
      "_________________________________________________________________\n",
      "max_pooling2d_2 (MaxPooling2 (None, 28, 28, 128)       0         \n",
      "_________________________________________________________________\n",
      "flatten (Flatten)            (None, 100352)            0         \n",
      "_________________________________________________________________\n",
      "dropout (Dropout)            (None, 100352)            0         \n",
      "_________________________________________________________________\n",
      "dense (Dense)                (None, 128)               12845184  \n",
      "_________________________________________________________________\n",
      "dense_1 (Dense)              (None, 2)                 258       \n",
      "=================================================================\n",
      "Total params: 12,938,690\n",
      "Trainable params: 12,938,690\n",
      "Non-trainable params: 0\n",
      "_________________________________________________________________\n"
     ]
    }
   ],
   "source": [
    "model.summary()"
   ]
  },
  {
   "cell_type": "code",
   "execution_count": 31,
   "id": "d91628b1-f758-4ca7-9edb-a4eb5e1f290f",
   "metadata": {},
   "outputs": [],
   "source": [
    "model.compile(optimizer = tf.keras.optimizers.Adam(learning_rate = 1e-6)\n",
    "            ,loss='categorical_crossentropy'\n",
    "            ,metrics=['acc']\n",
    "            )"
   ]
  },
  {
   "cell_type": "code",
   "execution_count": 32,
   "id": "6a1165ce-e8b3-4c1d-995c-497b3f2a104f",
   "metadata": {},
   "outputs": [],
   "source": [
    "checkpoint_path = f\"./model/tmp_checkpoint2.ckpt\"\n",
    "checkpoint = ModelCheckpoint(filepath=checkpoint_path, \n",
    "                                save_weights_only=True, \n",
    "                                save_best_only=True, \n",
    "                                monitor='val_loss', \n",
    "                                verbose=1)"
   ]
  },
  {
   "cell_type": "code",
   "execution_count": 33,
   "id": "f45a8418-6d2a-4e2f-9894-9c80ff2ab898",
   "metadata": {},
   "outputs": [
    {
     "name": "stderr",
     "output_type": "stream",
     "text": [
      "2021-11-12 02:16:27.475789: W tensorflow/core/framework/cpu_allocator_impl.cc:81] Allocation of 13616160768 exceeds 10% of free system memory.\n"
     ]
    },
    {
     "name": "stdout",
     "output_type": "stream",
     "text": [
      "Epoch 1/10\n"
     ]
    },
    {
     "name": "stderr",
     "output_type": "stream",
     "text": [
      "2021-11-12 02:16:33.994987: I tensorflow/stream_executor/platform/default/dso_loader.cc:48] Successfully opened dynamic library libcublas.so.10\n",
      "2021-11-12 02:16:33.998558: E tensorflow/stream_executor/cuda/cuda_blas.cc:225] failed to create cublas handle: CUBLAS_STATUS_NOT_INITIALIZED\n",
      "2021-11-12 02:16:34.034063: E tensorflow/stream_executor/cuda/cuda_blas.cc:225] failed to create cublas handle: CUBLAS_STATUS_NOT_INITIALIZED\n",
      "2021-11-12 02:16:34.128133: E tensorflow/stream_executor/cuda/cuda_blas.cc:225] failed to create cublas handle: CUBLAS_STATUS_NOT_INITIALIZED\n",
      "2021-11-12 02:16:34.131751: E tensorflow/stream_executor/cuda/cuda_blas.cc:225] failed to create cublas handle: CUBLAS_STATUS_NOT_INITIALIZED\n",
      "2021-11-12 02:16:34.151928: E tensorflow/stream_executor/cuda/cuda_blas.cc:225] failed to create cublas handle: CUBLAS_STATUS_NOT_INITIALIZED\n",
      "2021-11-12 02:16:34.157830: E tensorflow/stream_executor/cuda/cuda_blas.cc:225] failed to create cublas handle: CUBLAS_STATUS_NOT_INITIALIZED\n",
      "2021-11-12 02:16:34.314719: I tensorflow/stream_executor/cuda/cuda_driver.cc:775] failed to allocate 6.63G (7119365120 bytes) from device: CUDA_ERROR_OUT_OF_MEMORY: out of memory\n",
      "2021-11-12 02:16:34.315683: I tensorflow/stream_executor/cuda/cuda_driver.cc:775] failed to allocate 6.63G (7119365120 bytes) from device: CUDA_ERROR_OUT_OF_MEMORY: out of memory\n",
      "2021-11-12 02:16:44.316771: I tensorflow/stream_executor/cuda/cuda_driver.cc:775] failed to allocate 6.63G (7119365120 bytes) from device: CUDA_ERROR_OUT_OF_MEMORY: out of memory\n",
      "2021-11-12 02:16:44.317651: I tensorflow/stream_executor/cuda/cuda_driver.cc:775] failed to allocate 6.63G (7119365120 bytes) from device: CUDA_ERROR_OUT_OF_MEMORY: out of memory\n",
      "2021-11-12 02:16:44.317699: W tensorflow/core/common_runtime/bfc_allocator.cc:431] Allocator (GPU_0_bfc) ran out of memory trying to allocate 196.00MiB (rounded to 205520896)requested by op sequential/conv2d/Relu\n",
      "Current allocation summary follows.\n",
      "2021-11-12 02:16:44.317717: I tensorflow/core/common_runtime/bfc_allocator.cc:970] BFCAllocator dump for GPU_0_bfc\n",
      "2021-11-12 02:16:44.317739: I tensorflow/core/common_runtime/bfc_allocator.cc:977] Bin (256): \tTotal Chunks: 44, Chunks in use: 44. 11.0KiB allocated for chunks. 11.0KiB in use in bin. 1.8KiB client-requested in use in bin.\n",
      "2021-11-12 02:16:44.317757: I tensorflow/core/common_runtime/bfc_allocator.cc:977] Bin (512): \tTotal Chunks: 6, Chunks in use: 6. 3.2KiB allocated for chunks. 3.2KiB in use in bin. 3.0KiB client-requested in use in bin.\n",
      "2021-11-12 02:16:44.317772: I tensorflow/core/common_runtime/bfc_allocator.cc:977] Bin (1024): \tTotal Chunks: 4, Chunks in use: 4. 4.2KiB allocated for chunks. 4.2KiB in use in bin. 4.0KiB client-requested in use in bin.\n",
      "2021-11-12 02:16:44.317787: I tensorflow/core/common_runtime/bfc_allocator.cc:977] Bin (2048): \tTotal Chunks: 3, Chunks in use: 3. 10.5KiB allocated for chunks. 10.5KiB in use in bin. 10.1KiB client-requested in use in bin.\n",
      "2021-11-12 02:16:44.317801: I tensorflow/core/common_runtime/bfc_allocator.cc:977] Bin (4096): \tTotal Chunks: 0, Chunks in use: 0. 0B allocated for chunks. 0B in use in bin. 0B client-requested in use in bin.\n",
      "2021-11-12 02:16:44.317813: I tensorflow/core/common_runtime/bfc_allocator.cc:977] Bin (8192): \tTotal Chunks: 0, Chunks in use: 0. 0B allocated for chunks. 0B in use in bin. 0B client-requested in use in bin.\n",
      "2021-11-12 02:16:44.317825: I tensorflow/core/common_runtime/bfc_allocator.cc:977] Bin (16384): \tTotal Chunks: 0, Chunks in use: 0. 0B allocated for chunks. 0B in use in bin. 0B client-requested in use in bin.\n",
      "2021-11-12 02:16:44.317838: I tensorflow/core/common_runtime/bfc_allocator.cc:977] Bin (32768): \tTotal Chunks: 0, Chunks in use: 0. 0B allocated for chunks. 0B in use in bin. 0B client-requested in use in bin.\n",
      "2021-11-12 02:16:44.317853: I tensorflow/core/common_runtime/bfc_allocator.cc:977] Bin (65536): \tTotal Chunks: 2, Chunks in use: 2. 144.0KiB allocated for chunks. 144.0KiB in use in bin. 144.0KiB client-requested in use in bin.\n",
      "2021-11-12 02:16:44.317872: I tensorflow/core/common_runtime/bfc_allocator.cc:977] Bin (131072): \tTotal Chunks: 1, Chunks in use: 1. 140.0KiB allocated for chunks. 140.0KiB in use in bin. 72.0KiB client-requested in use in bin.\n",
      "2021-11-12 02:16:44.317893: I tensorflow/core/common_runtime/bfc_allocator.cc:977] Bin (262144): \tTotal Chunks: 2, Chunks in use: 2. 576.0KiB allocated for chunks. 576.0KiB in use in bin. 576.0KiB client-requested in use in bin.\n",
      "2021-11-12 02:16:44.317910: I tensorflow/core/common_runtime/bfc_allocator.cc:977] Bin (524288): \tTotal Chunks: 1, Chunks in use: 1. 575.8KiB allocated for chunks. 575.8KiB in use in bin. 288.0KiB client-requested in use in bin.\n",
      "2021-11-12 02:16:44.317923: I tensorflow/core/common_runtime/bfc_allocator.cc:977] Bin (1048576): \tTotal Chunks: 0, Chunks in use: 0. 0B allocated for chunks. 0B in use in bin. 0B client-requested in use in bin.\n",
      "2021-11-12 02:16:44.317936: I tensorflow/core/common_runtime/bfc_allocator.cc:977] Bin (2097152): \tTotal Chunks: 0, Chunks in use: 0. 0B allocated for chunks. 0B in use in bin. 0B client-requested in use in bin.\n",
      "2021-11-12 02:16:44.317948: I tensorflow/core/common_runtime/bfc_allocator.cc:977] Bin (4194304): \tTotal Chunks: 0, Chunks in use: 0. 0B allocated for chunks. 0B in use in bin. 0B client-requested in use in bin.\n",
      "2021-11-12 02:16:44.317960: I tensorflow/core/common_runtime/bfc_allocator.cc:977] Bin (8388608): \tTotal Chunks: 0, Chunks in use: 0. 0B allocated for chunks. 0B in use in bin. 0B client-requested in use in bin.\n",
      "2021-11-12 02:16:44.317975: I tensorflow/core/common_runtime/bfc_allocator.cc:977] Bin (16777216): \tTotal Chunks: 2, Chunks in use: 1. 36.75MiB allocated for chunks. 18.38MiB in use in bin. 18.38MiB client-requested in use in bin.\n",
      "2021-11-12 02:16:44.317991: I tensorflow/core/common_runtime/bfc_allocator.cc:977] Bin (33554432): \tTotal Chunks: 2, Chunks in use: 2. 98.00MiB allocated for chunks. 98.00MiB in use in bin. 98.00MiB client-requested in use in bin.\n",
      "2021-11-12 02:16:44.318012: I tensorflow/core/common_runtime/bfc_allocator.cc:977] Bin (67108864): \tTotal Chunks: 1, Chunks in use: 1. 98.00MiB allocated for chunks. 98.00MiB in use in bin. 49.00MiB client-requested in use in bin.\n",
      "2021-11-12 02:16:44.318032: I tensorflow/core/common_runtime/bfc_allocator.cc:977] Bin (134217728): \tTotal Chunks: 1, Chunks in use: 0. 185.01MiB allocated for chunks. 0B in use in bin. 0B client-requested in use in bin.\n",
      "2021-11-12 02:16:44.318045: I tensorflow/core/common_runtime/bfc_allocator.cc:977] Bin (268435456): \tTotal Chunks: 0, Chunks in use: 0. 0B allocated for chunks. 0B in use in bin. 0B client-requested in use in bin.\n",
      "2021-11-12 02:16:44.318059: I tensorflow/core/common_runtime/bfc_allocator.cc:993] Bin for 196.00MiB was 128.00MiB, Chunk State: \n",
      "2021-11-12 02:16:44.318078: I tensorflow/core/common_runtime/bfc_allocator.cc:999]   Size: 185.01MiB | Requested Size: 0B | in_use: 0 | bin_num: 19, prev:   Size: 256B | Requested Size: 4B | in_use: 1 | bin_num: -1\n",
      "2021-11-12 02:16:44.318088: I tensorflow/core/common_runtime/bfc_allocator.cc:1006] Next region of size 439549184\n",
      "2021-11-12 02:16:44.318103: I tensorflow/core/common_runtime/bfc_allocator.cc:1026] InUse at 7fb7c0000000 of size 1280 next 1\n",
      "2021-11-12 02:16:44.318113: I tensorflow/core/common_runtime/bfc_allocator.cc:1026] InUse at 7fb7c0000500 of size 256 next 2\n",
      "2021-11-12 02:16:44.318125: I tensorflow/core/common_runtime/bfc_allocator.cc:1026] InUse at 7fb7c0000600 of size 256 next 6\n",
      "2021-11-12 02:16:44.318138: I tensorflow/core/common_runtime/bfc_allocator.cc:1026] InUse at 7fb7c0000700 of size 256 next 9\n",
      "2021-11-12 02:16:44.318149: I tensorflow/core/common_runtime/bfc_allocator.cc:1026] InUse at 7fb7c0000800 of size 256 next 11\n",
      "2021-11-12 02:16:44.318159: I tensorflow/core/common_runtime/bfc_allocator.cc:1026] InUse at 7fb7c0000900 of size 256 next 12\n",
      "2021-11-12 02:16:44.318168: I tensorflow/core/common_runtime/bfc_allocator.cc:1026] InUse at 7fb7c0000a00 of size 256 next 10\n",
      "2021-11-12 02:16:44.318178: I tensorflow/core/common_runtime/bfc_allocator.cc:1026] InUse at 7fb7c0000b00 of size 256 next 16\n",
      "2021-11-12 02:16:44.318187: I tensorflow/core/common_runtime/bfc_allocator.cc:1026] InUse at 7fb7c0000c00 of size 256 next 17\n",
      "2021-11-12 02:16:44.318198: I tensorflow/core/common_runtime/bfc_allocator.cc:1026] InUse at 7fb7c0000d00 of size 512 next 15\n",
      "2021-11-12 02:16:44.318207: I tensorflow/core/common_runtime/bfc_allocator.cc:1026] InUse at 7fb7c0000f00 of size 256 next 21\n",
      "2021-11-12 02:16:44.318217: I tensorflow/core/common_runtime/bfc_allocator.cc:1026] InUse at 7fb7c0001000 of size 256 next 22\n",
      "2021-11-12 02:16:44.318227: I tensorflow/core/common_runtime/bfc_allocator.cc:1026] InUse at 7fb7c0001100 of size 768 next 3\n",
      "2021-11-12 02:16:44.318236: I tensorflow/core/common_runtime/bfc_allocator.cc:1026] InUse at 7fb7c0001400 of size 256 next 4\n",
      "2021-11-12 02:16:44.318246: I tensorflow/core/common_runtime/bfc_allocator.cc:1026] InUse at 7fb7c0001500 of size 256 next 5\n",
      "2021-11-12 02:16:44.318257: I tensorflow/core/common_runtime/bfc_allocator.cc:1026] InUse at 7fb7c0001600 of size 256 next 27\n",
      "2021-11-12 02:16:44.318270: I tensorflow/core/common_runtime/bfc_allocator.cc:1026] InUse at 7fb7c0001700 of size 256 next 29\n",
      "2021-11-12 02:16:44.318281: I tensorflow/core/common_runtime/bfc_allocator.cc:1026] InUse at 7fb7c0001800 of size 256 next 30\n",
      "2021-11-12 02:16:44.318291: I tensorflow/core/common_runtime/bfc_allocator.cc:1026] InUse at 7fb7c0001900 of size 256 next 20\n",
      "2021-11-12 02:16:44.318300: I tensorflow/core/common_runtime/bfc_allocator.cc:1026] InUse at 7fb7c0001a00 of size 256 next 25\n",
      "2021-11-12 02:16:44.318310: I tensorflow/core/common_runtime/bfc_allocator.cc:1026] InUse at 7fb7c0001b00 of size 256 next 26\n",
      "2021-11-12 02:16:44.318319: I tensorflow/core/common_runtime/bfc_allocator.cc:1026] InUse at 7fb7c0001c00 of size 256 next 31\n",
      "2021-11-12 02:16:44.318331: I tensorflow/core/common_runtime/bfc_allocator.cc:1026] InUse at 7fb7c0001d00 of size 256 next 32\n",
      "2021-11-12 02:16:44.318341: I tensorflow/core/common_runtime/bfc_allocator.cc:1026] InUse at 7fb7c0001e00 of size 256 next 33\n",
      "2021-11-12 02:16:44.318350: I tensorflow/core/common_runtime/bfc_allocator.cc:1026] InUse at 7fb7c0001f00 of size 256 next 34\n",
      "2021-11-12 02:16:44.318359: I tensorflow/core/common_runtime/bfc_allocator.cc:1026] InUse at 7fb7c0002000 of size 256 next 28\n",
      "2021-11-12 02:16:44.318370: I tensorflow/core/common_runtime/bfc_allocator.cc:1026] InUse at 7fb7c0002100 of size 1024 next 7\n",
      "2021-11-12 02:16:44.318381: I tensorflow/core/common_runtime/bfc_allocator.cc:1026] InUse at 7fb7c0002500 of size 3584 next 8\n",
      "2021-11-12 02:16:44.318393: I tensorflow/core/common_runtime/bfc_allocator.cc:1026] InUse at 7fb7c0003300 of size 256 next 35\n",
      "2021-11-12 02:16:44.318403: I tensorflow/core/common_runtime/bfc_allocator.cc:1026] InUse at 7fb7c0003400 of size 3584 next 36\n",
      "2021-11-12 02:16:44.318412: I tensorflow/core/common_runtime/bfc_allocator.cc:1026] InUse at 7fb7c0004200 of size 256 next 37\n",
      "2021-11-12 02:16:44.318422: I tensorflow/core/common_runtime/bfc_allocator.cc:1026] InUse at 7fb7c0004300 of size 143360 next 14\n",
      "2021-11-12 02:16:44.318432: I tensorflow/core/common_runtime/bfc_allocator.cc:1026] InUse at 7fb7c0027300 of size 73728 next 13\n",
      "2021-11-12 02:16:44.318442: I tensorflow/core/common_runtime/bfc_allocator.cc:1026] InUse at 7fb7c0039300 of size 256 next 38\n",
      "2021-11-12 02:16:44.318452: I tensorflow/core/common_runtime/bfc_allocator.cc:1026] InUse at 7fb7c0039400 of size 589568 next 19\n",
      "2021-11-12 02:16:44.318462: I tensorflow/core/common_runtime/bfc_allocator.cc:1026] InUse at 7fb7c00c9300 of size 294912 next 18\n",
      "2021-11-12 02:16:44.318472: I tensorflow/core/common_runtime/bfc_allocator.cc:1026] InUse at 7fb7c0111300 of size 512 next 39\n",
      "2021-11-12 02:16:44.318481: I tensorflow/core/common_runtime/bfc_allocator.cc:1026] InUse at 7fb7c0111500 of size 102759936 next 24\n",
      "2021-11-12 02:16:44.318491: I tensorflow/core/common_runtime/bfc_allocator.cc:1026] InUse at 7fb7c6311300 of size 51380224 next 23\n",
      "2021-11-12 02:16:44.318501: I tensorflow/core/common_runtime/bfc_allocator.cc:1026] InUse at 7fb7c9411300 of size 512 next 40\n",
      "2021-11-12 02:16:44.318510: I tensorflow/core/common_runtime/bfc_allocator.cc:1026] InUse at 7fb7c9411500 of size 1024 next 41\n",
      "2021-11-12 02:16:44.318520: I tensorflow/core/common_runtime/bfc_allocator.cc:1026] InUse at 7fb7c9411900 of size 256 next 42\n",
      "2021-11-12 02:16:44.318530: I tensorflow/core/common_runtime/bfc_allocator.cc:1026] InUse at 7fb7c9411a00 of size 3584 next 43\n",
      "2021-11-12 02:16:44.318539: I tensorflow/core/common_runtime/bfc_allocator.cc:1026] InUse at 7fb7c9412800 of size 256 next 44\n",
      "2021-11-12 02:16:44.318549: I tensorflow/core/common_runtime/bfc_allocator.cc:1026] InUse at 7fb7c9412900 of size 73728 next 45\n",
      "2021-11-12 02:16:44.318558: I tensorflow/core/common_runtime/bfc_allocator.cc:1026] InUse at 7fb7c9424900 of size 256 next 46\n",
      "2021-11-12 02:16:44.318568: I tensorflow/core/common_runtime/bfc_allocator.cc:1026] InUse at 7fb7c9424a00 of size 294912 next 47\n",
      "2021-11-12 02:16:44.318577: I tensorflow/core/common_runtime/bfc_allocator.cc:1026] InUse at 7fb7c946ca00 of size 512 next 48\n",
      "2021-11-12 02:16:44.318587: I tensorflow/core/common_runtime/bfc_allocator.cc:1026] InUse at 7fb7c946cc00 of size 51380224 next 49\n",
      "2021-11-12 02:16:44.318596: I tensorflow/core/common_runtime/bfc_allocator.cc:1026] InUse at 7fb7cc56cc00 of size 512 next 50\n",
      "2021-11-12 02:16:44.318606: I tensorflow/core/common_runtime/bfc_allocator.cc:1026] InUse at 7fb7cc56ce00 of size 1024 next 51\n",
      "2021-11-12 02:16:44.318615: I tensorflow/core/common_runtime/bfc_allocator.cc:1026] InUse at 7fb7cc56d200 of size 256 next 52\n",
      "2021-11-12 02:16:44.318626: I tensorflow/core/common_runtime/bfc_allocator.cc:1026] InUse at 7fb7cc56d300 of size 256 next 53\n",
      "2021-11-12 02:16:44.318638: I tensorflow/core/common_runtime/bfc_allocator.cc:1026] InUse at 7fb7cc56d400 of size 256 next 54\n",
      "2021-11-12 02:16:44.318648: I tensorflow/core/common_runtime/bfc_allocator.cc:1026] InUse at 7fb7cc56d500 of size 256 next 55\n",
      "2021-11-12 02:16:44.318657: I tensorflow/core/common_runtime/bfc_allocator.cc:1026] InUse at 7fb7cc56d600 of size 256 next 56\n",
      "2021-11-12 02:16:44.318667: I tensorflow/core/common_runtime/bfc_allocator.cc:1026] InUse at 7fb7cc56d700 of size 256 next 57\n",
      "2021-11-12 02:16:44.318676: I tensorflow/core/common_runtime/bfc_allocator.cc:1026] InUse at 7fb7cc56d800 of size 256 next 58\n",
      "2021-11-12 02:16:44.318686: I tensorflow/core/common_runtime/bfc_allocator.cc:1026] InUse at 7fb7cc56d900 of size 256 next 59\n",
      "2021-11-12 02:16:44.318695: I tensorflow/core/common_runtime/bfc_allocator.cc:1026] InUse at 7fb7cc56da00 of size 256 next 60\n",
      "2021-11-12 02:16:44.318705: I tensorflow/core/common_runtime/bfc_allocator.cc:1026] InUse at 7fb7cc56db00 of size 256 next 61\n",
      "2021-11-12 02:16:44.318714: I tensorflow/core/common_runtime/bfc_allocator.cc:1026] Free  at 7fb7cc56dc00 of size 19267584 next 62\n",
      "2021-11-12 02:16:44.318724: I tensorflow/core/common_runtime/bfc_allocator.cc:1026] InUse at 7fb7cd7cdc00 of size 256 next 63\n",
      "2021-11-12 02:16:44.318734: I tensorflow/core/common_runtime/bfc_allocator.cc:1026] InUse at 7fb7cd7cdd00 of size 19267584 next 64\n",
      "2021-11-12 02:16:44.318743: I tensorflow/core/common_runtime/bfc_allocator.cc:1026] InUse at 7fb7cea2dd00 of size 256 next 65\n",
      "2021-11-12 02:16:44.318753: I tensorflow/core/common_runtime/bfc_allocator.cc:1026] InUse at 7fb7cea2de00 of size 256 next 66\n",
      "2021-11-12 02:16:44.318762: I tensorflow/core/common_runtime/bfc_allocator.cc:1026] InUse at 7fb7cea2df00 of size 256 next 67\n",
      "2021-11-12 02:16:44.318772: I tensorflow/core/common_runtime/bfc_allocator.cc:1026] InUse at 7fb7cea2e000 of size 256 next 68\n",
      "2021-11-12 02:16:44.318782: I tensorflow/core/common_runtime/bfc_allocator.cc:1026] Free  at 7fb7cea2e100 of size 193993728 next 18446744073709551615\n",
      "2021-11-12 02:16:44.318791: I tensorflow/core/common_runtime/bfc_allocator.cc:1031]      Summary of in-use Chunks by size: \n",
      "2021-11-12 02:16:44.318805: I tensorflow/core/common_runtime/bfc_allocator.cc:1034] 44 Chunks of size 256 totalling 11.0KiB\n",
      "2021-11-12 02:16:44.318817: I tensorflow/core/common_runtime/bfc_allocator.cc:1034] 5 Chunks of size 512 totalling 2.5KiB\n",
      "2021-11-12 02:16:44.318828: I tensorflow/core/common_runtime/bfc_allocator.cc:1034] 1 Chunks of size 768 totalling 768B\n",
      "2021-11-12 02:16:44.318839: I tensorflow/core/common_runtime/bfc_allocator.cc:1034] 3 Chunks of size 1024 totalling 3.0KiB\n",
      "2021-11-12 02:16:44.318851: I tensorflow/core/common_runtime/bfc_allocator.cc:1034] 1 Chunks of size 1280 totalling 1.2KiB\n",
      "2021-11-12 02:16:44.318862: I tensorflow/core/common_runtime/bfc_allocator.cc:1034] 3 Chunks of size 3584 totalling 10.5KiB\n",
      "2021-11-12 02:16:44.318877: I tensorflow/core/common_runtime/bfc_allocator.cc:1034] 2 Chunks of size 73728 totalling 144.0KiB\n",
      "2021-11-12 02:16:44.318889: I tensorflow/core/common_runtime/bfc_allocator.cc:1034] 1 Chunks of size 143360 totalling 140.0KiB\n",
      "2021-11-12 02:16:44.318900: I tensorflow/core/common_runtime/bfc_allocator.cc:1034] 2 Chunks of size 294912 totalling 576.0KiB\n",
      "2021-11-12 02:16:44.318912: I tensorflow/core/common_runtime/bfc_allocator.cc:1034] 1 Chunks of size 589568 totalling 575.8KiB\n",
      "2021-11-12 02:16:44.318924: I tensorflow/core/common_runtime/bfc_allocator.cc:1034] 1 Chunks of size 19267584 totalling 18.38MiB\n",
      "2021-11-12 02:16:44.318935: I tensorflow/core/common_runtime/bfc_allocator.cc:1034] 2 Chunks of size 51380224 totalling 98.00MiB\n",
      "2021-11-12 02:16:44.318947: I tensorflow/core/common_runtime/bfc_allocator.cc:1034] 1 Chunks of size 102759936 totalling 98.00MiB\n",
      "2021-11-12 02:16:44.318958: I tensorflow/core/common_runtime/bfc_allocator.cc:1038] Sum Total of in-use chunks: 215.80MiB\n",
      "2021-11-12 02:16:44.318969: I tensorflow/core/common_runtime/bfc_allocator.cc:1040] total_region_allocated_bytes_: 439549184 memory_limit_: 7558914400 available bytes: 7119365216 curr_region_allocation_bytes_: 15117829120\n",
      "2021-11-12 02:16:44.318985: I tensorflow/core/common_runtime/bfc_allocator.cc:1046] Stats: \n",
      "Limit:                      7558914400\n",
      "InUse:                       226287872\n",
      "MaxInUse:                    245555456\n",
      "NumAllocs:                         171\n",
      "MaxAllocSize:                102759936\n",
      "Reserved:                            0\n",
      "PeakReserved:                        0\n",
      "LargestFreeBlock:                    0\n",
      "\n",
      "2021-11-12 02:16:44.319001: W tensorflow/core/common_runtime/bfc_allocator.cc:439] ************xxxxxxxxxxx*************************___*****____________________________________________\n",
      "2021-11-12 02:16:44.319038: W tensorflow/core/framework/op_kernel.cc:1767] OP_REQUIRES failed at conv_ops_fused_impl.h:725 : Resource exhausted: OOM when allocating tensor with shape[32,32,224,224] and type float on /job:localhost/replica:0/task:0/device:GPU:0 by allocator GPU_0_bfc\n"
     ]
    },
    {
     "ename": "ResourceExhaustedError",
     "evalue": " OOM when allocating tensor with shape[32,32,224,224] and type float on /job:localhost/replica:0/task:0/device:GPU:0 by allocator GPU_0_bfc\n\t [[node sequential/conv2d/Relu (defined at tmp/ipykernel_18220/3163090840.py:5) ]]\nHint: If you want to see a list of allocated tensors when OOM happens, add report_tensor_allocations_upon_oom to RunOptions for current allocation info.\n [Op:__inference_train_function_960]\n\nFunction call stack:\ntrain_function\n",
     "output_type": "error",
     "traceback": [
      "\u001b[0;31m---------------------------------------------------------------------------\u001b[0m",
      "\u001b[0;31mResourceExhaustedError\u001b[0m                    Traceback (most recent call last)",
      "\u001b[0;32m/tmp/ipykernel_18220/3163090840.py\u001b[0m in \u001b[0;36m<module>\u001b[0;34m\u001b[0m\n\u001b[1;32m      3\u001b[0m           \u001b[0mvalidation_data\u001b[0m\u001b[0;34m=\u001b[0m\u001b[0;34m(\u001b[0m\u001b[0mval_x\u001b[0m\u001b[0;34m,\u001b[0m \u001b[0mval_y\u001b[0m\u001b[0;34m)\u001b[0m\u001b[0;34m,\u001b[0m\u001b[0;34m\u001b[0m\u001b[0;34m\u001b[0m\u001b[0m\n\u001b[1;32m      4\u001b[0m           \u001b[0mepochs\u001b[0m\u001b[0;34m=\u001b[0m\u001b[0;36m10\u001b[0m\u001b[0;34m,\u001b[0m\u001b[0;34m\u001b[0m\u001b[0;34m\u001b[0m\u001b[0m\n\u001b[0;32m----> 5\u001b[0;31m           \u001b[0mcallbacks\u001b[0m\u001b[0;34m=\u001b[0m\u001b[0;34m[\u001b[0m\u001b[0mcheckpoint\u001b[0m\u001b[0;34m]\u001b[0m\u001b[0;34m,\u001b[0m\u001b[0;34m\u001b[0m\u001b[0;34m\u001b[0m\u001b[0m\n\u001b[0m\u001b[1;32m      6\u001b[0m          )\n",
      "\u001b[0;32m~/anaconda3/envs/jun_env/lib/python3.7/site-packages/tensorflow/python/keras/engine/training.py\u001b[0m in \u001b[0;36m_method_wrapper\u001b[0;34m(self, *args, **kwargs)\u001b[0m\n\u001b[1;32m    106\u001b[0m   \u001b[0;32mdef\u001b[0m \u001b[0m_method_wrapper\u001b[0m\u001b[0;34m(\u001b[0m\u001b[0mself\u001b[0m\u001b[0;34m,\u001b[0m \u001b[0;34m*\u001b[0m\u001b[0margs\u001b[0m\u001b[0;34m,\u001b[0m \u001b[0;34m**\u001b[0m\u001b[0mkwargs\u001b[0m\u001b[0;34m)\u001b[0m\u001b[0;34m:\u001b[0m\u001b[0;34m\u001b[0m\u001b[0;34m\u001b[0m\u001b[0m\n\u001b[1;32m    107\u001b[0m     \u001b[0;32mif\u001b[0m \u001b[0;32mnot\u001b[0m \u001b[0mself\u001b[0m\u001b[0;34m.\u001b[0m\u001b[0m_in_multi_worker_mode\u001b[0m\u001b[0;34m(\u001b[0m\u001b[0;34m)\u001b[0m\u001b[0;34m:\u001b[0m  \u001b[0;31m# pylint: disable=protected-access\u001b[0m\u001b[0;34m\u001b[0m\u001b[0;34m\u001b[0m\u001b[0m\n\u001b[0;32m--> 108\u001b[0;31m       \u001b[0;32mreturn\u001b[0m \u001b[0mmethod\u001b[0m\u001b[0;34m(\u001b[0m\u001b[0mself\u001b[0m\u001b[0;34m,\u001b[0m \u001b[0;34m*\u001b[0m\u001b[0margs\u001b[0m\u001b[0;34m,\u001b[0m \u001b[0;34m**\u001b[0m\u001b[0mkwargs\u001b[0m\u001b[0;34m)\u001b[0m\u001b[0;34m\u001b[0m\u001b[0;34m\u001b[0m\u001b[0m\n\u001b[0m\u001b[1;32m    109\u001b[0m \u001b[0;34m\u001b[0m\u001b[0m\n\u001b[1;32m    110\u001b[0m     \u001b[0;31m# Running inside `run_distribute_coordinator` already.\u001b[0m\u001b[0;34m\u001b[0m\u001b[0;34m\u001b[0m\u001b[0;34m\u001b[0m\u001b[0m\n",
      "\u001b[0;32m~/anaconda3/envs/jun_env/lib/python3.7/site-packages/tensorflow/python/keras/engine/training.py\u001b[0m in \u001b[0;36mfit\u001b[0;34m(self, x, y, batch_size, epochs, verbose, callbacks, validation_split, validation_data, shuffle, class_weight, sample_weight, initial_epoch, steps_per_epoch, validation_steps, validation_batch_size, validation_freq, max_queue_size, workers, use_multiprocessing)\u001b[0m\n\u001b[1;32m   1096\u001b[0m                 batch_size=batch_size):\n\u001b[1;32m   1097\u001b[0m               \u001b[0mcallbacks\u001b[0m\u001b[0;34m.\u001b[0m\u001b[0mon_train_batch_begin\u001b[0m\u001b[0;34m(\u001b[0m\u001b[0mstep\u001b[0m\u001b[0;34m)\u001b[0m\u001b[0;34m\u001b[0m\u001b[0;34m\u001b[0m\u001b[0m\n\u001b[0;32m-> 1098\u001b[0;31m               \u001b[0mtmp_logs\u001b[0m \u001b[0;34m=\u001b[0m \u001b[0mtrain_function\u001b[0m\u001b[0;34m(\u001b[0m\u001b[0miterator\u001b[0m\u001b[0;34m)\u001b[0m\u001b[0;34m\u001b[0m\u001b[0;34m\u001b[0m\u001b[0m\n\u001b[0m\u001b[1;32m   1099\u001b[0m               \u001b[0;32mif\u001b[0m \u001b[0mdata_handler\u001b[0m\u001b[0;34m.\u001b[0m\u001b[0mshould_sync\u001b[0m\u001b[0;34m:\u001b[0m\u001b[0;34m\u001b[0m\u001b[0;34m\u001b[0m\u001b[0m\n\u001b[1;32m   1100\u001b[0m                 \u001b[0mcontext\u001b[0m\u001b[0;34m.\u001b[0m\u001b[0masync_wait\u001b[0m\u001b[0;34m(\u001b[0m\u001b[0;34m)\u001b[0m\u001b[0;34m\u001b[0m\u001b[0;34m\u001b[0m\u001b[0m\n",
      "\u001b[0;32m~/anaconda3/envs/jun_env/lib/python3.7/site-packages/tensorflow/python/eager/def_function.py\u001b[0m in \u001b[0;36m__call__\u001b[0;34m(self, *args, **kwds)\u001b[0m\n\u001b[1;32m    778\u001b[0m       \u001b[0;32melse\u001b[0m\u001b[0;34m:\u001b[0m\u001b[0;34m\u001b[0m\u001b[0;34m\u001b[0m\u001b[0m\n\u001b[1;32m    779\u001b[0m         \u001b[0mcompiler\u001b[0m \u001b[0;34m=\u001b[0m \u001b[0;34m\"nonXla\"\u001b[0m\u001b[0;34m\u001b[0m\u001b[0;34m\u001b[0m\u001b[0m\n\u001b[0;32m--> 780\u001b[0;31m         \u001b[0mresult\u001b[0m \u001b[0;34m=\u001b[0m \u001b[0mself\u001b[0m\u001b[0;34m.\u001b[0m\u001b[0m_call\u001b[0m\u001b[0;34m(\u001b[0m\u001b[0;34m*\u001b[0m\u001b[0margs\u001b[0m\u001b[0;34m,\u001b[0m \u001b[0;34m**\u001b[0m\u001b[0mkwds\u001b[0m\u001b[0;34m)\u001b[0m\u001b[0;34m\u001b[0m\u001b[0;34m\u001b[0m\u001b[0m\n\u001b[0m\u001b[1;32m    781\u001b[0m \u001b[0;34m\u001b[0m\u001b[0m\n\u001b[1;32m    782\u001b[0m       \u001b[0mnew_tracing_count\u001b[0m \u001b[0;34m=\u001b[0m \u001b[0mself\u001b[0m\u001b[0;34m.\u001b[0m\u001b[0m_get_tracing_count\u001b[0m\u001b[0;34m(\u001b[0m\u001b[0;34m)\u001b[0m\u001b[0;34m\u001b[0m\u001b[0;34m\u001b[0m\u001b[0m\n",
      "\u001b[0;32m~/anaconda3/envs/jun_env/lib/python3.7/site-packages/tensorflow/python/eager/def_function.py\u001b[0m in \u001b[0;36m_call\u001b[0;34m(self, *args, **kwds)\u001b[0m\n\u001b[1;32m    838\u001b[0m         \u001b[0;31m# Lifting succeeded, so variables are initialized and we can run the\u001b[0m\u001b[0;34m\u001b[0m\u001b[0;34m\u001b[0m\u001b[0;34m\u001b[0m\u001b[0m\n\u001b[1;32m    839\u001b[0m         \u001b[0;31m# stateless function.\u001b[0m\u001b[0;34m\u001b[0m\u001b[0;34m\u001b[0m\u001b[0;34m\u001b[0m\u001b[0m\n\u001b[0;32m--> 840\u001b[0;31m         \u001b[0;32mreturn\u001b[0m \u001b[0mself\u001b[0m\u001b[0;34m.\u001b[0m\u001b[0m_stateless_fn\u001b[0m\u001b[0;34m(\u001b[0m\u001b[0;34m*\u001b[0m\u001b[0margs\u001b[0m\u001b[0;34m,\u001b[0m \u001b[0;34m**\u001b[0m\u001b[0mkwds\u001b[0m\u001b[0;34m)\u001b[0m\u001b[0;34m\u001b[0m\u001b[0;34m\u001b[0m\u001b[0m\n\u001b[0m\u001b[1;32m    841\u001b[0m     \u001b[0;32melse\u001b[0m\u001b[0;34m:\u001b[0m\u001b[0;34m\u001b[0m\u001b[0;34m\u001b[0m\u001b[0m\n\u001b[1;32m    842\u001b[0m       \u001b[0mcanon_args\u001b[0m\u001b[0;34m,\u001b[0m \u001b[0mcanon_kwds\u001b[0m \u001b[0;34m=\u001b[0m\u001b[0;31m \u001b[0m\u001b[0;31m\\\u001b[0m\u001b[0;34m\u001b[0m\u001b[0;34m\u001b[0m\u001b[0m\n",
      "\u001b[0;32m~/anaconda3/envs/jun_env/lib/python3.7/site-packages/tensorflow/python/eager/function.py\u001b[0m in \u001b[0;36m__call__\u001b[0;34m(self, *args, **kwargs)\u001b[0m\n\u001b[1;32m   2827\u001b[0m     \u001b[0;32mwith\u001b[0m \u001b[0mself\u001b[0m\u001b[0;34m.\u001b[0m\u001b[0m_lock\u001b[0m\u001b[0;34m:\u001b[0m\u001b[0;34m\u001b[0m\u001b[0;34m\u001b[0m\u001b[0m\n\u001b[1;32m   2828\u001b[0m       \u001b[0mgraph_function\u001b[0m\u001b[0;34m,\u001b[0m \u001b[0margs\u001b[0m\u001b[0;34m,\u001b[0m \u001b[0mkwargs\u001b[0m \u001b[0;34m=\u001b[0m \u001b[0mself\u001b[0m\u001b[0;34m.\u001b[0m\u001b[0m_maybe_define_function\u001b[0m\u001b[0;34m(\u001b[0m\u001b[0margs\u001b[0m\u001b[0;34m,\u001b[0m \u001b[0mkwargs\u001b[0m\u001b[0;34m)\u001b[0m\u001b[0;34m\u001b[0m\u001b[0;34m\u001b[0m\u001b[0m\n\u001b[0;32m-> 2829\u001b[0;31m     \u001b[0;32mreturn\u001b[0m \u001b[0mgraph_function\u001b[0m\u001b[0;34m.\u001b[0m\u001b[0m_filtered_call\u001b[0m\u001b[0;34m(\u001b[0m\u001b[0margs\u001b[0m\u001b[0;34m,\u001b[0m \u001b[0mkwargs\u001b[0m\u001b[0;34m)\u001b[0m  \u001b[0;31m# pylint: disable=protected-access\u001b[0m\u001b[0;34m\u001b[0m\u001b[0;34m\u001b[0m\u001b[0m\n\u001b[0m\u001b[1;32m   2830\u001b[0m \u001b[0;34m\u001b[0m\u001b[0m\n\u001b[1;32m   2831\u001b[0m   \u001b[0;34m@\u001b[0m\u001b[0mproperty\u001b[0m\u001b[0;34m\u001b[0m\u001b[0;34m\u001b[0m\u001b[0m\n",
      "\u001b[0;32m~/anaconda3/envs/jun_env/lib/python3.7/site-packages/tensorflow/python/eager/function.py\u001b[0m in \u001b[0;36m_filtered_call\u001b[0;34m(self, args, kwargs, cancellation_manager)\u001b[0m\n\u001b[1;32m   1846\u001b[0m                            resource_variable_ops.BaseResourceVariable))],\n\u001b[1;32m   1847\u001b[0m         \u001b[0mcaptured_inputs\u001b[0m\u001b[0;34m=\u001b[0m\u001b[0mself\u001b[0m\u001b[0;34m.\u001b[0m\u001b[0mcaptured_inputs\u001b[0m\u001b[0;34m,\u001b[0m\u001b[0;34m\u001b[0m\u001b[0;34m\u001b[0m\u001b[0m\n\u001b[0;32m-> 1848\u001b[0;31m         cancellation_manager=cancellation_manager)\n\u001b[0m\u001b[1;32m   1849\u001b[0m \u001b[0;34m\u001b[0m\u001b[0m\n\u001b[1;32m   1850\u001b[0m   \u001b[0;32mdef\u001b[0m \u001b[0m_call_flat\u001b[0m\u001b[0;34m(\u001b[0m\u001b[0mself\u001b[0m\u001b[0;34m,\u001b[0m \u001b[0margs\u001b[0m\u001b[0;34m,\u001b[0m \u001b[0mcaptured_inputs\u001b[0m\u001b[0;34m,\u001b[0m \u001b[0mcancellation_manager\u001b[0m\u001b[0;34m=\u001b[0m\u001b[0;32mNone\u001b[0m\u001b[0;34m)\u001b[0m\u001b[0;34m:\u001b[0m\u001b[0;34m\u001b[0m\u001b[0;34m\u001b[0m\u001b[0m\n",
      "\u001b[0;32m~/anaconda3/envs/jun_env/lib/python3.7/site-packages/tensorflow/python/eager/function.py\u001b[0m in \u001b[0;36m_call_flat\u001b[0;34m(self, args, captured_inputs, cancellation_manager)\u001b[0m\n\u001b[1;32m   1922\u001b[0m       \u001b[0;31m# No tape is watching; skip to running the function.\u001b[0m\u001b[0;34m\u001b[0m\u001b[0;34m\u001b[0m\u001b[0;34m\u001b[0m\u001b[0m\n\u001b[1;32m   1923\u001b[0m       return self._build_call_outputs(self._inference_function.call(\n\u001b[0;32m-> 1924\u001b[0;31m           ctx, args, cancellation_manager=cancellation_manager))\n\u001b[0m\u001b[1;32m   1925\u001b[0m     forward_backward = self._select_forward_and_backward_functions(\n\u001b[1;32m   1926\u001b[0m         \u001b[0margs\u001b[0m\u001b[0;34m,\u001b[0m\u001b[0;34m\u001b[0m\u001b[0;34m\u001b[0m\u001b[0m\n",
      "\u001b[0;32m~/anaconda3/envs/jun_env/lib/python3.7/site-packages/tensorflow/python/eager/function.py\u001b[0m in \u001b[0;36mcall\u001b[0;34m(self, ctx, args, cancellation_manager)\u001b[0m\n\u001b[1;32m    548\u001b[0m               \u001b[0minputs\u001b[0m\u001b[0;34m=\u001b[0m\u001b[0margs\u001b[0m\u001b[0;34m,\u001b[0m\u001b[0;34m\u001b[0m\u001b[0;34m\u001b[0m\u001b[0m\n\u001b[1;32m    549\u001b[0m               \u001b[0mattrs\u001b[0m\u001b[0;34m=\u001b[0m\u001b[0mattrs\u001b[0m\u001b[0;34m,\u001b[0m\u001b[0;34m\u001b[0m\u001b[0;34m\u001b[0m\u001b[0m\n\u001b[0;32m--> 550\u001b[0;31m               ctx=ctx)\n\u001b[0m\u001b[1;32m    551\u001b[0m         \u001b[0;32melse\u001b[0m\u001b[0;34m:\u001b[0m\u001b[0;34m\u001b[0m\u001b[0;34m\u001b[0m\u001b[0m\n\u001b[1;32m    552\u001b[0m           outputs = execute.execute_with_cancellation(\n",
      "\u001b[0;32m~/anaconda3/envs/jun_env/lib/python3.7/site-packages/tensorflow/python/eager/execute.py\u001b[0m in \u001b[0;36mquick_execute\u001b[0;34m(op_name, num_outputs, inputs, attrs, ctx, name)\u001b[0m\n\u001b[1;32m     58\u001b[0m     \u001b[0mctx\u001b[0m\u001b[0;34m.\u001b[0m\u001b[0mensure_initialized\u001b[0m\u001b[0;34m(\u001b[0m\u001b[0;34m)\u001b[0m\u001b[0;34m\u001b[0m\u001b[0;34m\u001b[0m\u001b[0m\n\u001b[1;32m     59\u001b[0m     tensors = pywrap_tfe.TFE_Py_Execute(ctx._handle, device_name, op_name,\n\u001b[0;32m---> 60\u001b[0;31m                                         inputs, attrs, num_outputs)\n\u001b[0m\u001b[1;32m     61\u001b[0m   \u001b[0;32mexcept\u001b[0m \u001b[0mcore\u001b[0m\u001b[0;34m.\u001b[0m\u001b[0m_NotOkStatusException\u001b[0m \u001b[0;32mas\u001b[0m \u001b[0me\u001b[0m\u001b[0;34m:\u001b[0m\u001b[0;34m\u001b[0m\u001b[0;34m\u001b[0m\u001b[0m\n\u001b[1;32m     62\u001b[0m     \u001b[0;32mif\u001b[0m \u001b[0mname\u001b[0m \u001b[0;32mis\u001b[0m \u001b[0;32mnot\u001b[0m \u001b[0;32mNone\u001b[0m\u001b[0;34m:\u001b[0m\u001b[0;34m\u001b[0m\u001b[0;34m\u001b[0m\u001b[0m\n",
      "\u001b[0;31mResourceExhaustedError\u001b[0m:  OOM when allocating tensor with shape[32,32,224,224] and type float on /job:localhost/replica:0/task:0/device:GPU:0 by allocator GPU_0_bfc\n\t [[node sequential/conv2d/Relu (defined at tmp/ipykernel_18220/3163090840.py:5) ]]\nHint: If you want to see a list of allocated tensors when OOM happens, add report_tensor_allocations_upon_oom to RunOptions for current allocation info.\n [Op:__inference_train_function_960]\n\nFunction call stack:\ntrain_function\n"
     ]
    }
   ],
   "source": [
    "model.fit(x,\n",
    "          y,\n",
    "          validation_data=(val_x, val_y),\n",
    "          epochs=10,\n",
    "          callbacks=[checkpoint],\n",
    "         )"
   ]
  },
  {
   "cell_type": "code",
   "execution_count": null,
   "id": "187bb612-29be-46b2-954b-66b285178484",
   "metadata": {},
   "outputs": [],
   "source": [
    "test_path = './OIDv4_ToolKit/OID/Dataset/test/'"
   ]
  },
  {
   "cell_type": "code",
   "execution_count": null,
   "id": "7f8e5754-6977-4e6c-a197-49c6cc65b351",
   "metadata": {},
   "outputs": [],
   "source": [
    "img_np = np.array([])\n",
    "label_np = np.array([])\n",
    "for label in ['Bicycle helmet', 'Helmet', 'Human face']:\n",
    "    for txt in os.listdir(f'{path}{label}/Label/'):\n",
    "        img_np = np.append(img_np, np.array(f'{path}{label}/{txt[:-4]}.jpg'))\n",
    "        label_np = np.append(label_np, np.array(label))"
   ]
  },
  {
   "cell_type": "code",
   "execution_count": null,
   "id": "7ca4b939-753f-41eb-9a7b-12a0d2a911ab",
   "metadata": {},
   "outputs": [],
   "source": [
    "test_df = pd.DataFrame()\n",
    "test_df['img_name'] = img_np\n",
    "test_df['tag'] = label_np\n",
    "test_df['label'] = label_np\n",
    "test_df['label'] = test_df['label'].map({'Bicycle helmet' : 0, 'Helmet' : 0, 'Human face' : 1})"
   ]
  },
  {
   "cell_type": "code",
   "execution_count": null,
   "id": "81322781-cc07-4692-8890-ae3343b9adad",
   "metadata": {},
   "outputs": [],
   "source": [
    "IMG_SIZE = 224\n",
    "num_samples = test_df.shape[0]"
   ]
  },
  {
   "cell_type": "code",
   "execution_count": null,
   "id": "a1489bf2-c983-4268-b6df-58eb17af50c0",
   "metadata": {},
   "outputs": [],
   "source": [
    "test_df.head()"
   ]
  },
  {
   "cell_type": "code",
   "execution_count": null,
   "id": "dc916c7a-6c27-4443-b42b-6e8658ee709e",
   "metadata": {},
   "outputs": [],
   "source": [
    "test_x = np.zeros(shape=(num_samples, IMG_SIZE, IMG_SIZE, 3 ), dtype=\"float32\" )"
   ]
  },
  {
   "cell_type": "code",
   "execution_count": null,
   "id": "7cd6c6d6-e733-4ac7-9543-6c435af06313",
   "metadata": {},
   "outputs": [],
   "source": [
    "index = 0\n",
    "for img_path in tqdm(test_df['img_name']):\n",
    "    try:\n",
    "        img = cv2.imread(img_path).astype(np.float32)\n",
    "        img = cv2.resize(img, (224,224))\n",
    "        test_x[index] = img\n",
    "        index += 1\n",
    "    except:\n",
    "        print(img_path)"
   ]
  },
  {
   "cell_type": "code",
   "execution_count": null,
   "id": "cbb1779f-d65e-4b93-be85-1d692ca18769",
   "metadata": {},
   "outputs": [],
   "source": [
    "test_label = test_df['label'].values.reshape(-1,1)"
   ]
  },
  {
   "cell_type": "code",
   "execution_count": null,
   "id": "7c587067-9655-41c5-b173-0ab78e8df8c9",
   "metadata": {},
   "outputs": [],
   "source": [
    "test_y = to_categorical(test_label)"
   ]
  },
  {
   "cell_type": "code",
   "execution_count": null,
   "id": "351554d4-fae1-49b5-8401-44121d6dc4b7",
   "metadata": {},
   "outputs": [],
   "source": [
    "model.evaluate(test_x, test_y)"
   ]
  },
  {
   "cell_type": "code",
   "execution_count": null,
   "id": "c35866ed-25fc-4270-8083-a7db351bb616",
   "metadata": {},
   "outputs": [],
   "source": [
    "model.save(\"./model/demo2.h5\")"
   ]
  }
 ],
 "metadata": {
  "kernelspec": {
   "display_name": "Python 3 (ipykernel)",
   "language": "python",
   "name": "python3"
  },
  "language_info": {
   "codemirror_mode": {
    "name": "ipython",
    "version": 3
   },
   "file_extension": ".py",
   "mimetype": "text/x-python",
   "name": "python",
   "nbconvert_exporter": "python",
   "pygments_lexer": "ipython3",
   "version": "3.7.11"
  }
 },
 "nbformat": 4,
 "nbformat_minor": 5
}
