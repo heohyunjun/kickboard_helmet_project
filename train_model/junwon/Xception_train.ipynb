{
 "cells": [
  {
   "cell_type": "code",
   "execution_count": 1,
   "metadata": {
    "executionInfo": {
     "elapsed": 3337,
     "status": "ok",
     "timestamp": 1636741617083,
     "user": {
      "displayName": "박준원",
      "photoUrl": "https://lh3.googleusercontent.com/a/default-user=s64",
      "userId": "01666978145944503968"
     },
     "user_tz": -540
    },
    "id": "dBeV2UgI3HYL"
   },
   "outputs": [
    {
     "name": "stderr",
     "output_type": "stream",
     "text": [
      "2021-11-24 19:28:46.016795: I tensorflow/stream_executor/platform/default/dso_loader.cc:48] Successfully opened dynamic library libcudart.so.10.1\n"
     ]
    }
   ],
   "source": [
    "from IPython.display import Image\n",
    "import matplotlib.pyplot as plt\n",
    "import warnings\n",
    "warnings.filterwarnings(action='ignore')\n",
    "\n",
    "import numpy as np\n",
    "import tensorflow as tf\n",
    "from tensorflow import keras\n",
    "from tensorflow.keras.layers import Conv2D, MaxPooling2D, Flatten, Dropout, Dense\n",
    "from tensorflow.keras.models import Sequential\n",
    "from tensorflow.keras.preprocessing.image import ImageDataGenerator\n",
    "from tensorflow.keras.callbacks import ModelCheckpoint"
   ]
  },
  {
   "cell_type": "code",
   "execution_count": 2,
   "metadata": {},
   "outputs": [
    {
     "name": "stdout",
     "output_type": "stream",
     "text": [
      "====================================================================================================\n",
      "[PhysicalDevice(name='/physical_device:GPU:0', device_type='GPU'), PhysicalDevice(name='/physical_device:GPU:1', device_type='GPU')]\n",
      "====================================================================================================\n",
      "WARNING:tensorflow:From /tmp/ipykernel_360687/2777633738.py:6: is_gpu_available (from tensorflow.python.framework.test_util) is deprecated and will be removed in a future version.\n",
      "Instructions for updating:\n",
      "Use `tf.config.list_physical_devices('GPU')` instead.\n",
      "GPU Available:  True\n"
     ]
    },
    {
     "name": "stderr",
     "output_type": "stream",
     "text": [
      "2021-11-24 19:28:46.888907: I tensorflow/stream_executor/platform/default/dso_loader.cc:48] Successfully opened dynamic library libcuda.so.1\n",
      "2021-11-24 19:28:46.916505: I tensorflow/core/common_runtime/gpu/gpu_device.cc:1716] Found device 0 with properties: \n",
      "pciBusID: 0000:0a:00.0 name: NVIDIA GeForce GTX 1080 computeCapability: 6.1\n",
      "coreClock: 1.759GHz coreCount: 20 deviceMemorySize: 7.93GiB deviceMemoryBandwidth: 298.32GiB/s\n",
      "2021-11-24 19:28:46.917538: I tensorflow/core/common_runtime/gpu/gpu_device.cc:1716] Found device 1 with properties: \n",
      "pciBusID: 0000:0b:00.0 name: NVIDIA GeForce GTX 1080 computeCapability: 6.1\n",
      "coreClock: 1.759GHz coreCount: 20 deviceMemorySize: 7.93GiB deviceMemoryBandwidth: 298.32GiB/s\n",
      "2021-11-24 19:28:46.917565: I tensorflow/stream_executor/platform/default/dso_loader.cc:48] Successfully opened dynamic library libcudart.so.10.1\n",
      "2021-11-24 19:28:46.919146: I tensorflow/stream_executor/platform/default/dso_loader.cc:48] Successfully opened dynamic library libcublas.so.10\n",
      "2021-11-24 19:28:46.920796: I tensorflow/stream_executor/platform/default/dso_loader.cc:48] Successfully opened dynamic library libcufft.so.10\n",
      "2021-11-24 19:28:46.921077: I tensorflow/stream_executor/platform/default/dso_loader.cc:48] Successfully opened dynamic library libcurand.so.10\n",
      "2021-11-24 19:28:46.922455: I tensorflow/stream_executor/platform/default/dso_loader.cc:48] Successfully opened dynamic library libcusolver.so.10\n",
      "2021-11-24 19:28:46.923049: I tensorflow/stream_executor/platform/default/dso_loader.cc:48] Successfully opened dynamic library libcusparse.so.10\n",
      "2021-11-24 19:28:46.925281: I tensorflow/stream_executor/platform/default/dso_loader.cc:48] Successfully opened dynamic library libcudnn.so.7\n",
      "2021-11-24 19:28:46.928251: I tensorflow/core/common_runtime/gpu/gpu_device.cc:1858] Adding visible gpu devices: 0, 1\n",
      "2021-11-24 19:28:46.929856: I tensorflow/core/platform/cpu_feature_guard.cc:142] This TensorFlow binary is optimized with oneAPI Deep Neural Network Library (oneDNN)to use the following CPU instructions in performance-critical operations:  AVX2 FMA\n",
      "To enable them in other operations, rebuild TensorFlow with the appropriate compiler flags.\n",
      "2021-11-24 19:28:46.953542: I tensorflow/core/platform/profile_utils/cpu_utils.cc:104] CPU Frequency: 3199595000 Hz\n",
      "2021-11-24 19:28:46.954363: I tensorflow/compiler/xla/service/service.cc:168] XLA service 0x5620bfb6fd00 initialized for platform Host (this does not guarantee that XLA will be used). Devices:\n",
      "2021-11-24 19:28:46.954372: I tensorflow/compiler/xla/service/service.cc:176]   StreamExecutor device (0): Host, Default Version\n",
      "2021-11-24 19:28:47.161530: I tensorflow/compiler/xla/service/service.cc:168] XLA service 0x5620c1b0ff70 initialized for platform CUDA (this does not guarantee that XLA will be used). Devices:\n",
      "2021-11-24 19:28:47.161562: I tensorflow/compiler/xla/service/service.cc:176]   StreamExecutor device (0): NVIDIA GeForce GTX 1080, Compute Capability 6.1\n",
      "2021-11-24 19:28:47.161571: I tensorflow/compiler/xla/service/service.cc:176]   StreamExecutor device (1): NVIDIA GeForce GTX 1080, Compute Capability 6.1\n",
      "2021-11-24 19:28:47.162961: I tensorflow/core/common_runtime/gpu/gpu_device.cc:1716] Found device 0 with properties: \n",
      "pciBusID: 0000:0a:00.0 name: NVIDIA GeForce GTX 1080 computeCapability: 6.1\n",
      "coreClock: 1.759GHz coreCount: 20 deviceMemorySize: 7.93GiB deviceMemoryBandwidth: 298.32GiB/s\n",
      "2021-11-24 19:28:47.164000: I tensorflow/core/common_runtime/gpu/gpu_device.cc:1716] Found device 1 with properties: \n",
      "pciBusID: 0000:0b:00.0 name: NVIDIA GeForce GTX 1080 computeCapability: 6.1\n",
      "coreClock: 1.759GHz coreCount: 20 deviceMemorySize: 7.93GiB deviceMemoryBandwidth: 298.32GiB/s\n",
      "2021-11-24 19:28:47.164041: I tensorflow/stream_executor/platform/default/dso_loader.cc:48] Successfully opened dynamic library libcudart.so.10.1\n",
      "2021-11-24 19:28:47.164069: I tensorflow/stream_executor/platform/default/dso_loader.cc:48] Successfully opened dynamic library libcublas.so.10\n",
      "2021-11-24 19:28:47.164093: I tensorflow/stream_executor/platform/default/dso_loader.cc:48] Successfully opened dynamic library libcufft.so.10\n",
      "2021-11-24 19:28:47.164115: I tensorflow/stream_executor/platform/default/dso_loader.cc:48] Successfully opened dynamic library libcurand.so.10\n",
      "2021-11-24 19:28:47.164136: I tensorflow/stream_executor/platform/default/dso_loader.cc:48] Successfully opened dynamic library libcusolver.so.10\n",
      "2021-11-24 19:28:47.164155: I tensorflow/stream_executor/platform/default/dso_loader.cc:48] Successfully opened dynamic library libcusparse.so.10\n",
      "2021-11-24 19:28:47.164174: I tensorflow/stream_executor/platform/default/dso_loader.cc:48] Successfully opened dynamic library libcudnn.so.7\n",
      "2021-11-24 19:28:47.174033: I tensorflow/core/common_runtime/gpu/gpu_device.cc:1858] Adding visible gpu devices: 0, 1\n",
      "2021-11-24 19:28:47.174066: I tensorflow/stream_executor/platform/default/dso_loader.cc:48] Successfully opened dynamic library libcudart.so.10.1\n",
      "2021-11-24 19:28:47.711155: I tensorflow/core/common_runtime/gpu/gpu_device.cc:1257] Device interconnect StreamExecutor with strength 1 edge matrix:\n",
      "2021-11-24 19:28:47.711193: I tensorflow/core/common_runtime/gpu/gpu_device.cc:1263]      0 1 \n",
      "2021-11-24 19:28:47.711199: I tensorflow/core/common_runtime/gpu/gpu_device.cc:1276] 0:   N Y \n",
      "2021-11-24 19:28:47.711202: I tensorflow/core/common_runtime/gpu/gpu_device.cc:1276] 1:   Y N \n",
      "2021-11-24 19:28:47.712816: I tensorflow/core/common_runtime/gpu/gpu_device.cc:1402] Created TensorFlow device (/device:GPU:0 with 7208 MB memory) -> physical GPU (device: 0, name: NVIDIA GeForce GTX 1080, pci bus id: 0000:0a:00.0, compute capability: 6.1)\n",
      "2021-11-24 19:28:47.713700: I tensorflow/core/common_runtime/gpu/gpu_device.cc:1402] Created TensorFlow device (/device:GPU:1 with 7218 MB memory) -> physical GPU (device: 1, name: NVIDIA GeForce GTX 1080, pci bus id: 0000:0b:00.0, compute capability: 6.1)\n"
     ]
    }
   ],
   "source": [
    "from tensorflow.python.client import device_lib\n",
    "gpus = tf.config.experimental.list_physical_devices('GPU')\n",
    "print('='*100)\n",
    "print(gpus)\n",
    "print('='*100)\n",
    "print(\"GPU Available: \", tf.test.is_gpu_available())"
   ]
  },
  {
   "cell_type": "code",
   "execution_count": 3,
   "metadata": {},
   "outputs": [
    {
     "name": "stdout",
     "output_type": "stream",
     "text": [
      "INFO:tensorflow:Using MirroredStrategy with devices ('/job:localhost/replica:0/task:0/device:GPU:0', '/job:localhost/replica:0/task:0/device:GPU:1')\n"
     ]
    },
    {
     "name": "stderr",
     "output_type": "stream",
     "text": [
      "2021-11-24 19:28:49.079614: I tensorflow/core/common_runtime/gpu/gpu_device.cc:1716] Found device 0 with properties: \n",
      "pciBusID: 0000:0a:00.0 name: NVIDIA GeForce GTX 1080 computeCapability: 6.1\n",
      "coreClock: 1.759GHz coreCount: 20 deviceMemorySize: 7.93GiB deviceMemoryBandwidth: 298.32GiB/s\n",
      "2021-11-24 19:28:49.080769: I tensorflow/core/common_runtime/gpu/gpu_device.cc:1716] Found device 1 with properties: \n",
      "pciBusID: 0000:0b:00.0 name: NVIDIA GeForce GTX 1080 computeCapability: 6.1\n",
      "coreClock: 1.759GHz coreCount: 20 deviceMemorySize: 7.93GiB deviceMemoryBandwidth: 298.32GiB/s\n",
      "2021-11-24 19:28:49.080837: I tensorflow/stream_executor/platform/default/dso_loader.cc:48] Successfully opened dynamic library libcudart.so.10.1\n",
      "2021-11-24 19:28:49.080891: I tensorflow/stream_executor/platform/default/dso_loader.cc:48] Successfully opened dynamic library libcublas.so.10\n",
      "2021-11-24 19:28:49.080923: I tensorflow/stream_executor/platform/default/dso_loader.cc:48] Successfully opened dynamic library libcufft.so.10\n",
      "2021-11-24 19:28:49.080959: I tensorflow/stream_executor/platform/default/dso_loader.cc:48] Successfully opened dynamic library libcurand.so.10\n",
      "2021-11-24 19:28:49.080989: I tensorflow/stream_executor/platform/default/dso_loader.cc:48] Successfully opened dynamic library libcusolver.so.10\n",
      "2021-11-24 19:28:49.081025: I tensorflow/stream_executor/platform/default/dso_loader.cc:48] Successfully opened dynamic library libcusparse.so.10\n",
      "2021-11-24 19:28:49.081062: I tensorflow/stream_executor/platform/default/dso_loader.cc:48] Successfully opened dynamic library libcudnn.so.7\n",
      "2021-11-24 19:28:49.085371: I tensorflow/core/common_runtime/gpu/gpu_device.cc:1858] Adding visible gpu devices: 0, 1\n",
      "2021-11-24 19:28:49.085438: I tensorflow/core/common_runtime/gpu/gpu_device.cc:1257] Device interconnect StreamExecutor with strength 1 edge matrix:\n",
      "2021-11-24 19:28:49.085450: I tensorflow/core/common_runtime/gpu/gpu_device.cc:1263]      0 1 \n",
      "2021-11-24 19:28:49.085460: I tensorflow/core/common_runtime/gpu/gpu_device.cc:1276] 0:   N Y \n",
      "2021-11-24 19:28:49.085468: I tensorflow/core/common_runtime/gpu/gpu_device.cc:1276] 1:   Y N \n",
      "2021-11-24 19:28:49.088674: I tensorflow/core/common_runtime/gpu/gpu_device.cc:1402] Created TensorFlow device (/job:localhost/replica:0/task:0/device:GPU:0 with 7208 MB memory) -> physical GPU (device: 0, name: NVIDIA GeForce GTX 1080, pci bus id: 0000:0a:00.0, compute capability: 6.1)\n",
      "2021-11-24 19:28:49.089819: I tensorflow/core/common_runtime/gpu/gpu_device.cc:1402] Created TensorFlow device (/job:localhost/replica:0/task:0/device:GPU:1 with 7218 MB memory) -> physical GPU (device: 1, name: NVIDIA GeForce GTX 1080, pci bus id: 0000:0b:00.0, compute capability: 6.1)\n"
     ]
    }
   ],
   "source": [
    "strategy = tf.distribute.MirroredStrategy()"
   ]
  },
  {
   "cell_type": "code",
   "execution_count": null,
   "metadata": {
    "executionInfo": {
     "elapsed": 6,
     "status": "ok",
     "timestamp": 1636741617084,
     "user": {
      "displayName": "박준원",
      "photoUrl": "https://lh3.googleusercontent.com/a/default-user=s64",
      "userId": "01666978145944503968"
     },
     "user_tz": -540
    },
    "id": "TFBZvYPC8sqp"
   },
   "outputs": [],
   "source": [
    "TRAINING_DIR = \"/root/data/cut_data_limit10000/train/\"\n",
    "VALIDATION_DIR = \"/root/data/cut_data_limit10000/validation/\"\n",
    "TEST_DIR = \"/root/data/cut_data_limit10000/test/\""
   ]
  },
  {
   "cell_type": "code",
   "execution_count": null,
   "metadata": {
    "executionInfo": {
     "elapsed": 7,
     "status": "ok",
     "timestamp": 1636741617085,
     "user": {
      "displayName": "박준원",
      "photoUrl": "https://lh3.googleusercontent.com/a/default-user=s64",
      "userId": "01666978145944503968"
     },
     "user_tz": -540
    },
    "id": "9cw-F-Lm9LRT"
   },
   "outputs": [],
   "source": [
    "training_datagen = ImageDataGenerator(\n",
    "                                        rescale=1. / 255,\n",
    "                                        rotation_range=20,\n",
    "                                        width_shift_range=0.1,\n",
    "                                        height_shift_range=0.1,\n",
    "                                        zoom_range=0.05,\n",
    "                                        horizontal_flip=True,\n",
    "                                        fill_mode='reflect', \n",
    "                                        validation_split=0.2\n",
    "                                        )"
   ]
  },
  {
   "cell_type": "code",
   "execution_count": null,
   "metadata": {
    "colab": {
     "base_uri": "https://localhost:8080/"
    },
    "executionInfo": {
     "elapsed": 3234,
     "status": "ok",
     "timestamp": 1636741620312,
     "user": {
      "displayName": "박준원",
      "photoUrl": "https://lh3.googleusercontent.com/a/default-user=s64",
      "userId": "01666978145944503968"
     },
     "user_tz": -540
    },
    "id": "YrbtMW759R22",
    "outputId": "d39bdc51-7729-4d3f-f3fa-d527c5416e6a"
   },
   "outputs": [],
   "source": [
    "training_generator = training_datagen.flow_from_directory(TRAINING_DIR, \n",
    "                                                          batch_size=32, \n",
    "                                                          target_size=(150, 150), \n",
    "                                                          class_mode='binary',\n",
    "                                                          shuffle=True \n",
    "                                                        #   subset='training',\n",
    "                                                         )"
   ]
  },
  {
   "cell_type": "code",
   "execution_count": null,
   "metadata": {
    "executionInfo": {
     "elapsed": 6,
     "status": "ok",
     "timestamp": 1636741620313,
     "user": {
      "displayName": "박준원",
      "photoUrl": "https://lh3.googleusercontent.com/a/default-user=s64",
      "userId": "01666978145944503968"
     },
     "user_tz": -540
    },
    "id": "phSE1ogJGi4V"
   },
   "outputs": [],
   "source": [
    "test_datagen = ImageDataGenerator(\n",
    "                    rescale = 1/255\n",
    "                )"
   ]
  },
  {
   "cell_type": "code",
   "execution_count": null,
   "metadata": {
    "colab": {
     "base_uri": "https://localhost:8080/"
    },
    "executionInfo": {
     "elapsed": 9,
     "status": "ok",
     "timestamp": 1636741620315,
     "user": {
      "displayName": "박준원",
      "photoUrl": "https://lh3.googleusercontent.com/a/default-user=s64",
      "userId": "01666978145944503968"
     },
     "user_tz": -540
    },
    "id": "XxVAECe5FRPA",
    "outputId": "f84522c2-18bf-4497-c879-b5367ec60a81"
   },
   "outputs": [],
   "source": [
    "validation_generator = test_datagen.flow_from_directory(VALIDATION_DIR, \n",
    "                                                          batch_size=32, \n",
    "                                                          target_size=(150, 150), \n",
    "                                                          class_mode='binary'\n",
    "                                                        #   subset='validation', \n",
    "                                                         )"
   ]
  },
  {
   "cell_type": "code",
   "execution_count": null,
   "metadata": {
    "colab": {
     "base_uri": "https://localhost:8080/"
    },
    "executionInfo": {
     "elapsed": 6494,
     "status": "ok",
     "timestamp": 1636741626804,
     "user": {
      "displayName": "박준원",
      "photoUrl": "https://lh3.googleusercontent.com/a/default-user=s64",
      "userId": "01666978145944503968"
     },
     "user_tz": -540
    },
    "id": "L3KYJpuG5dxN",
    "outputId": "9a639aaa-671f-4ee2-d4a0-9afca9c5b6a1"
   },
   "outputs": [],
   "source": [
    "base_model = keras.applications.Xception(\n",
    "    weights='imagenet',  # Load weights pre-trained on ImageNet.\n",
    "    input_shape=(150, 150, 3),\n",
    "    include_top=False)  # Do not include the ImageNet classifier at the top."
   ]
  },
  {
   "cell_type": "code",
   "execution_count": null,
   "metadata": {
    "executionInfo": {
     "elapsed": 5,
     "status": "ok",
     "timestamp": 1636741626804,
     "user": {
      "displayName": "박준원",
      "photoUrl": "https://lh3.googleusercontent.com/a/default-user=s64",
      "userId": "01666978145944503968"
     },
     "user_tz": -540
    },
    "id": "UFJLns9h5hJU"
   },
   "outputs": [],
   "source": [
    "base_model.trainable = False"
   ]
  },
  {
   "cell_type": "code",
   "execution_count": null,
   "metadata": {
    "executionInfo": {
     "elapsed": 5,
     "status": "ok",
     "timestamp": 1636741626805,
     "user": {
      "displayName": "박준원",
      "photoUrl": "https://lh3.googleusercontent.com/a/default-user=s64",
      "userId": "01666978145944503968"
     },
     "user_tz": -540
    },
    "id": "Ihka7ssREv7b"
   },
   "outputs": [],
   "source": [
    "from tensorflow import keras\n",
    "from tensorflow.keras import layers\n",
    "\n",
    "data_augmentation = keras.Sequential(\n",
    "    [\n",
    "        layers.experimental.preprocessing.RandomFlip(\"horizontal\"),\n",
    "        layers.experimental.preprocessing.RandomRotation(0.1),\n",
    "    ]\n",
    ")"
   ]
  },
  {
   "cell_type": "code",
   "execution_count": null,
   "metadata": {
    "colab": {
     "base_uri": "https://localhost:8080/"
    },
    "executionInfo": {
     "elapsed": 659,
     "status": "ok",
     "timestamp": 1636741627459,
     "user": {
      "displayName": "박준원",
      "photoUrl": "https://lh3.googleusercontent.com/a/default-user=s64",
      "userId": "01666978145944503968"
     },
     "user_tz": -540
    },
    "id": "1CzYz7zc-9Es",
    "outputId": "2d1d9d90-0050-4fa6-ac2b-4a6e4f977ce2"
   },
   "outputs": [],
   "source": [
    "# Create new model on top\n",
    "inputs = keras.Input(shape=(150, 150, 3))\n",
    "print(inputs)\n",
    "x = data_augmentation(inputs)  # Apply random data augmentation\n",
    "\n",
    "# Pre-trained Xception weights requires that input be normalized\n",
    "# from (0, 255) to a range (-1., +1.), the normalization layer\n",
    "# does the following, outputs = (inputs - mean) / sqrt(var)\n",
    "norm_layer = keras.layers.experimental.preprocessing.Normalization()\n",
    "\n",
    "mean = np.array([127.5] * 3)\n",
    "var = mean ** 2\n",
    "# Scale inputs to [-1, +1]\n",
    "x = norm_layer(x)\n",
    "# norm_layer.set_weights([mean, var])"
   ]
  },
  {
   "cell_type": "code",
   "execution_count": null,
   "metadata": {
    "executionInfo": {
     "elapsed": 456,
     "status": "ok",
     "timestamp": 1636741627913,
     "user": {
      "displayName": "박준원",
      "photoUrl": "https://lh3.googleusercontent.com/a/default-user=s64",
      "userId": "01666978145944503968"
     },
     "user_tz": -540
    },
    "id": "MZU5UcqB5j3b"
   },
   "outputs": [],
   "source": [
    "# We make sure that the base_model is running in inference mode here,\n",
    "# by passing `training=False`. This is important for fine-tuning, as you will\n",
    "# learn in a few paragraphs.\n",
    "x = base_model(inputs, training=False)\n",
    "# Convert features of shape `base_model.output_shape[1:]` to vectors\n",
    "x = keras.layers.GlobalAveragePooling2D()(x)\n",
    "# Regularize with dropout\n",
    "x = keras.layers.Dropout(0.2)(x)  \n",
    "# A Dense classifier with a single unit (binary classification)\n",
    "outputs = keras.layers.Dense(1, activation=\"sigmoid\")(x)\n",
    "model = keras.Model(inputs, outputs)"
   ]
  },
  {
   "cell_type": "code",
   "execution_count": null,
   "metadata": {
    "colab": {
     "base_uri": "https://localhost:8080/"
    },
    "executionInfo": {
     "elapsed": 3,
     "status": "ok",
     "timestamp": 1636741627913,
     "user": {
      "displayName": "박준원",
      "photoUrl": "https://lh3.googleusercontent.com/a/default-user=s64",
      "userId": "01666978145944503968"
     },
     "user_tz": -540
    },
    "id": "Wa9nSMf3-mQG",
    "outputId": "b9e7284d-65f3-44fd-8a23-f794ff2136e7"
   },
   "outputs": [],
   "source": [
    "model.summary()"
   ]
  },
  {
   "cell_type": "code",
   "execution_count": null,
   "metadata": {
    "colab": {
     "base_uri": "https://localhost:8080/"
    },
    "id": "zFr_892w5kSr",
    "outputId": "41bb71af-58ce-4710-869a-7db7c47a1cfa"
   },
   "outputs": [],
   "source": [
    "model.compile(\n",
    "    optimizer=keras.optimizers.Adam(),\n",
    "    loss=keras.losses.BinaryCrossentropy(from_logits=True),\n",
    "    metrics=[keras.metrics.BinaryAccuracy()],\n",
    ")\n",
    "checkpoint_path = f\"/root/data/model/Xception_model/tmp_checkpoint.ckpt\"\n",
    "checkpoint = ModelCheckpoint(filepath=checkpoint_path, \n",
    "                            save_weights_only=True, \n",
    "                            save_best_only=True, \n",
    "                            monitor='val_loss', \n",
    "                            verbose=1)\n",
    "epochs = 5\n",
    "model.fit(training_generator,\n",
    "          epochs=epochs,\n",
    "          validation_data=validation_generator,\n",
    "          callbacks=[checkpoint])"
   ]
  },
  {
   "cell_type": "code",
   "execution_count": null,
   "metadata": {
    "id": "hZdI4RC8BhHh"
   },
   "outputs": [],
   "source": [
    "model.load_weights(checkpoint_path)"
   ]
  },
  {
   "cell_type": "code",
   "execution_count": null,
   "metadata": {
    "id": "wiSjIQe6BjT0"
   },
   "outputs": [],
   "source": [
    "model.save(f\"/root/data/model/Xception_model/1113_Xception_model.h5\")"
   ]
  },
  {
   "cell_type": "code",
   "execution_count": null,
   "metadata": {},
   "outputs": [],
   "source": [
    "test_generator = test_datagen.flow_from_directory(TEST_DIR, \n",
    "                                                 batch_size=32, \n",
    "                                                 target_size=(150, 150), \n",
    "                                                 class_mode='binary'\n",
    "                                                 #   subset='validation', \n",
    "                                                )"
   ]
  },
  {
   "cell_type": "code",
   "execution_count": null,
   "metadata": {},
   "outputs": [],
   "source": [
    "model.evaluate(test_generator)"
   ]
  },
  {
   "cell_type": "code",
   "execution_count": null,
   "metadata": {},
   "outputs": [],
   "source": [
    "import cv2\n",
    "img = cv2.imread('/root/final_project/images2.png')"
   ]
  },
  {
   "cell_type": "code",
   "execution_count": null,
   "metadata": {},
   "outputs": [],
   "source": [
    "face_cascade = cv2.CascadeClassifier(cv2.data.haarcascades + 'haarcascade_frontalface_default.xml')"
   ]
  },
  {
   "cell_type": "code",
   "execution_count": null,
   "metadata": {},
   "outputs": [],
   "source": []
  },
  {
   "cell_type": "code",
   "execution_count": null,
   "metadata": {},
   "outputs": [],
   "source": [
    "img = cv2.resize(img, dsize = (150,150))"
   ]
  },
  {
   "cell_type": "code",
   "execution_count": null,
   "metadata": {},
   "outputs": [],
   "source": [
    "img = img.reshape(-1, 150, 150, 3)"
   ]
  },
  {
   "cell_type": "code",
   "execution_count": null,
   "metadata": {},
   "outputs": [],
   "source": [
    "model.predict(img)"
   ]
  },
  {
   "cell_type": "code",
   "execution_count": null,
   "metadata": {},
   "outputs": [],
   "source": []
  }
 ],
 "metadata": {
  "accelerator": "GPU",
  "colab": {
   "authorship_tag": "ABX9TyMttD6vh+N+IzZJHXo8r/80",
   "machine_shape": "hm",
   "mount_file_id": "1uWy8Ze6ZkD3o9RwWBv9kYciCS9GL0Xt2",
   "name": "Xception_train.ipynb",
   "provenance": []
  },
  "kernelspec": {
   "display_name": "Python 3 (ipykernel)",
   "language": "python",
   "name": "python3"
  },
  "language_info": {
   "codemirror_mode": {
    "name": "ipython",
    "version": 3
   },
   "file_extension": ".py",
   "mimetype": "text/x-python",
   "name": "python",
   "nbconvert_exporter": "python",
   "pygments_lexer": "ipython3",
   "version": "3.7.11"
  }
 },
 "nbformat": 4,
 "nbformat_minor": 4
}
